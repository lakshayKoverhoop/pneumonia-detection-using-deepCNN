{
 "cells": [
  {
   "cell_type": "markdown",
   "metadata": {},
   "source": [
    "# Importing required libraries "
   ]
  },
  {
   "cell_type": "code",
   "execution_count": 4,
   "metadata": {},
   "outputs": [],
   "source": [
    "import numpy as np\n",
    "
    "import cv2\n",
    "import os\n",
    "from random import shuffle\n",
    "from tqdm import tqdm\n",
    "import scipy\n",
    "import skimage\n",
    "from skimage.transform import resize"
   ]
  },
  {
   "cell_type": "code",
   "execution_count": 5,
   "metadata": {},
   "outputs": [
    {
     "name": "stdout",
     "output_type": "stream",
     "text": [
      "['.ipynb_checkpoints', 'train.h5', 'test', 'val', 'train']\n"
     ]
    }
   ],
   "source": [
    "print(os.listdir(\"/home/nikhil/Desktop/Jupyter_WorkSpace/Project/Pneumonia_Project/data/input/chest_xray/\"))"
   ]
  },
  {
   "cell_type": "code",
   "execution_count": 6,
   "metadata": {},
   "outputs": [
    {
     "name": "stdout",
     "output_type": "stream",
     "text": [
      "['PNEUMONIA', 'NORMAL']\n"
     ]
    }
   ],
   "source": [
    "print(os.listdir(\"/home/nikhil/Desktop/Jupyter_WorkSpace/Project/Pneumonia_Project/data/input/chest_xray/train/\"))"
   ]
  },
  {
   "cell_type": "code",
   "execution_count": 7,
   "metadata": {},
   "outputs": [],
   "source": [
    "train_dir = \"/home/nikhil/Desktop/Jupyter_WorkSpace/Project/Pneumonia_Project/data/input/chest_xray/train/\"\n",
    "test_dir = \"/home/nikhil/Desktop/Jupyter_WorkSpace/Project/Pneumonia_Project/data/input/chest_xray/test/\""
   ]
  },
  {
   "cell_type": "code",
   "execution_count": 8,
   "metadata": {},
   "outputs": [],
   "source": [
    "def get_data(Dir):\n",
    "    X=[]\n",
    "    y=[]\n",
    "    \n",
    "    for nextdir in os.listdir(Dir):\n",
    "        if not nextdir.startswith('.'):\n",
    "            if nextdir in ['NORMAL']:\n",
    "                label = 0\n",
    "            elif nextdir in ['PNEUMONIA']:\n",
    "                label = 1\n",
    "            else:\n",
    "                label = 2\n",
    "            \n",
    "            temp = Dir + nextdir\n",
    "            \n",
    "            for file in tqdm(os.listdir(temp)):\n",
    "                img = cv2.imread(temp + '/' + file)\n",
    "                if img is not None:\n",
    "                    img = skimage.transform.resize(img, (150,150,3))\n",
    "                    img = np.asarray(img)\n",
    "                    X.append(img)\n",
    "                    y.append(label)\n",
    "                    \n",
    "    X = np.asarray(X)\n",
    "    y = np.asarray(y)  \n",
    "    return X,y"
   ]
  },
  {
   "cell_type": "code",
   "execution_count": 9,
   "metadata": {},
   "outputs": [],
   "source": [
    "import h5py"
   ]
  },
  {
   "cell_type": "code",
   "execution_count": null,
   "metadata": {},
   "outputs": [
    {
     "name": "stderr",
     "output_type": "stream",
     "text": [
      "  0%|          | 0/3875 [00:00<?, ?it/s]/home/nikhil/anaconda3/lib/python3.6/site-packages/skimage/transform/_warps.py:84: UserWarning: The default mode, 'constant', will be changed to 'reflect' in skimage 0.15.\n",
      "  warn(\"The default mode, 'constant', will be changed to 'reflect' in \"\n",
      "  0%|          | 1/3875 [00:00<09:40,  6.67it/s]"
     ]
    },
    {
     "name": "stdout",
     "output_type": "stream",
     "text": [
      "Error in reading /home/nikhil/Desktop/Jupyter_WorkSpace/Project/Pneumonia_Project/data/input/chest_xray/train.h5. Processing all images...\n"
     ]
    },
    {
     "name": "stderr",
     "output_type": "stream",
     "text": [
      "100%|██████████| 3875/3875 [03:08<00:00, 20.58it/s]\n",
      " 70%|███████   | 942/1341 [01:45<00:41,  9.70it/s]"
     ]
    }
   ],
   "source": [
    "from keras.utils.np_utils import to_categorical\n",
    "\n",
    "num_classes = 2\n",
    "image_dims = (150,150,3)\n",
    "file_name = '/home/nikhil/Desktop/Jupyter_WorkSpace/Project/Pneumonia_Project/data/input/chest_xray/train.h5' \n",
    "\n",
    "try:\n",
    "    with h5py.File(file_name) as hdf:\n",
    "        X_train,y_train = hdf['imgs'][:],hdf['labels'][:]\n",
    "        print(\"Loaded images from {}\".format(file_name))\n",
    "\n",
    "except(IOError, OSError, KeyError):\n",
    "    print(\"Error in reading {}. Processing all images...\".format(file_name))\n",
    "    \n",
    "    X_train,y_train = get_data(train_dir)\n",
    "    y_train=to_categorical(y_train,num_classes)\n",
    "    \n",
    "    with h5py.File(filename, 'w') as hdf:\n",
    "        hdf.create_dataset('imgs', data=X_train)\n",
    "        hdf.create_dataset('labels',data=y_train)"
   ]
  },
  {
   "cell_type": "code",
   "execution_count": null,
   "metadata": {},
   "outputs": [],
   "source": [
    "file_name = '/home/nikhil/Desktop/Jupyter_WorkSpace/Project/Pneumonia_Project/data/input/chest_xray/test.h5'\n",
    "\n",
    "try:\n",
    "    with h5py.File(file_name) as hdf:\n",
    "        X_test, y_test = hdf['imgs'][:], hdf['labels'][:]\n",
    "    print(\"Loaded images from {}\".format(file_name))\n",
    "\n",
    "except(IOError, OSError, KeyError):\n",
    "    print(\"Error in reading {}. Processing all images...\".format(file_name))\n",
    "    \n",
    "    X_test,y_test = get_data(test_dir) \n",
    "    y_test = to_categorical(y_test, num_classes)\n",
    "    \n",
    "    with h5py.File(file_name,'w') as hdf:\n",
    "        hdf.create_dataset('imgs', data=X_test)\n",
    "        hdf.create_dataset('labels', data=y_test)"
   ]
  },
  {
   "cell_type": "code",
   "execution_count": null,
   "metadata": {},
   "outputs": [],
   "source": [
    "print('Training X images:{} \\n  Training y labels:{}'.format(X_train.shape,y_train.shape))\n",
    "print('Testing X images:{} \\n  Testing y labels:{}'.format(X_test.shape,y_test.shape))"
   ]
  },
  {
   "cell_type": "code",
   "execution_count": 11,
   "metadata": {},
   "outputs": [],
   "source": [
    "Pimages = os.listdir(train_dir+\"PNEUMONIA\")\n",
    "Nimages = os.listdir(train_dir+\"NORMAL\")"
   ]
  },
  {
   "cell_type": "code",
   "execution_count": 12,
   "metadata": {},
   "outputs": [
    {
     "name": "stdout",
     "output_type": "stream",
     "text": [
      "(Left) - No Pneumonia Vs (Right) - Pneumonia\n",
      "________________________________________\n"
     ]
    },
    {
     "data": {
      "text/plain": [
       "<Figure size 1000x500 with 1 Axes>"
      ]
     },
     "metadata": {},
     "output_type": "display_data"
    },
    {
     "name": "stdout",
     "output_type": "stream",
     "text": [
      "(Left) - No Pneumonia Vs (Right) - Pneumonia\n",
      "________________________________________\n"
     ]
    },
    {
     "data": {
      "text/plain": [
       "<Figure size 1000x500 with 1 Axes>"
      ]
     },
     "metadata": {},
     "output_type": "display_data"
    },
    {
     "name": "stdout",
     "output_type": "stream",
     "text": [
      "(Left) - No Pneumonia Vs (Right) - Pneumonia\n",
      "________________________________________\n"
     ]
    },
    {
     "data": {
      "text/plain": [
       "<Figure size 1000x500 with 1 Axes>"
      ]
     },
     "metadata": {},
     "output_type": "display_data"
    },
    {
     "name": "stdout",
     "output_type": "stream",
     "text": [
      "(Left) - No Pneumonia Vs (Right) - Pneumonia\n",
      "________________________________________\n"
     ]
    },
    {
     "data": {
      "text/plain": [
       "<Figure size 1000x500 with 1 Axes>"
      ]
     },
     "metadata": {},
     "output_type": "display_data"
    }
   ],
   "source": [
    "import matplotlib.pyplot as plt\n",
    "\n",
    "def plotter(i):\n",
    "    imagep1 = cv2.imread(train_dir+\"PNEUMONIA/\"+Pimages[i])\n",
    "    imagep1 = skimage.transform.resize(imagep1, (150, 150, 3), mode='reflect')\n",
    "    imagen1 = cv2.imread(train_dir+\"NORMAL/\"+Nimages[i])\n",
    "    imagen1 = skimage.transform.resize(imagen1, (150, 150, 3))\n",
    "    pair = np.concatenate((imagen1,imagep1), axis=1)\n",
    "    print(\"(Left) - No Pneumonia Vs (Right) - Pneumonia\")\n",
    "    print(\"_\"*40)\n",
    "    plt.figure(figsize=(10,5))\n",
    "    plt.imshow(pair)\n",
    "    plt.show()\n",
    "\n",
    "for i in range(1,5):\n",
    "    plotter(i)"
   ]
  },
  {
   "cell_type": "code",
   "execution_count": 13,
   "metadata": {},
   "outputs": [
    {
     "data": {
      "image/png": "iVBORw0KGgoAAAANSUhEUgAAAX0AAAEICAYAAACzliQjAAAABHNCSVQICAgIfAhkiAAAAAlwSFlzAAALEgAACxIB0t1+/AAAADh0RVh0U29mdHdhcmUAbWF0cGxvdGxpYiB2ZXJzaW9uMy4xLjAsIGh0dHA6Ly9tYXRwbG90bGliLm9yZy+17YcXAAAWNUlEQVR4nO3df7BfdZ3f8efLBMFVV4JcHTaJDaOxCqsb8RpxtFXRhYB2g7NaoVuNlk7sFKvbsVthd1rWH3S0XaVjq0xjyRpcV2RcLZFlZSOKVqf8uMEYCNFyC6xck8LVQISlGw28+8f3k+VLuD++9+bmXjbn+Zi58z3nfT7nnM+B77y+J5/vOeebqkKS1A1PWegOSJLmj6EvSR1i6EtShxj6ktQhhr4kdYihL0kdYuhLA0iyKMlDSZ43l22l+Rav09eRKMlDfbO/AuwDHmnz76mqL8x/r6SFZ+jriJfkbuCfV9U3pmizuKr2z1+vpIXh8I46KclHk3wpyReTPAj80ySvSnJDkgeS7E7yqSRHtfaLk1SSFW3+T9ryv0jyYJL/leTEmbZty89M8r+T7E3yX5J8L8m75ve/iLrC0FeXvQX4U+BZwJeA/cD7geOBVwNrgPdMsf4/Af4dcBzwY+AjM22b5DnAlcDvtf3eBaye7QFJ0zH01WXfraqvVdWjVfX/qurmqrqxqvZX1Z3ABuC1U6z/5aoaqapfAl8AVs2i7ZuBbVV1VVt2CfDTQz80aWKLF7oD0gK6p38myYuATwAvp/fl72LgxinW/7990w8Dz5hF21/r70dVVZKxaXsuzZJn+uqyg69i+G/AbcALqupXgX8P5DD3YTew7MBMkgBLD/M+1WGGvvSYZwJ7gb9O8mKmHs+fK1cDpyT5R0kW0/tOYWge9quOMvSlx3wAWAc8SO+s/0uHe4dVdS/wduCTwM+A5wPfp3dfgTTnvE5fehJJsgjYBby1qv7nQvdHRx7P9KUFlmRNkmclOZreZZ37gZsWuFs6Qhn60sJ7DXAnvUs11wBnV5XDOzosHN6RpA7xTF+SOuRJfXPW8ccfXytWrFjobkjS3ylbt279aVVNeOnvwKHfrioYAX5SVW9uD4y6gt6zRG4B3lFVv2hfRl1O767GnwFvr6q72zYuBM6j94jb91XVtVPtc8WKFYyMjAzaRUkSkOSvJls2k+Gd9wM7++Y/DlxSVSuB++mFOe31/qp6Ab3niHy8deIk4BzgZHpfVn2mfZBIkubJQKGfZBnwJuC/t/kApwFfbk02AWe36bVtnrb8Da39WuCKqtpXVXcBo/g0QUmaV4Oe6f9n4N8Cj7b5ZwMP9P3oxBiPPS9kKe0BUm353tb+b+sTrPO3kqxPMpJkZHx8fAaHIkmazrShn+TNwH1VtbW/PEHTmmbZVOs8VqjaUFXDVTU8NOQjSCRpLg3yRe6rgd9KchZwDPCr9M78j+37ibll9G4dh94Z/HJgrD1A6lnAnr76Af3rSJLmwbRn+lV1YVUtq6oV9L6I/WZV/Q7wLeCtrdk64Ko2vbnN05Z/s3p3gG0GzklydLvyZyXeai5J8+pQrtP/IHBFko/SeyrgZa1+GfD5JKP0zvDPAaiqHUmuBG6n92yR86vqkUPYvyRphp7Uj2EYHh4ur9OXpJlJsrWqhida5mMYJKlDntSPYThUKy7484Xugp6k7v7Ymxa6C9KC8ExfkjrE0JekDjH0JalDDH1J6hBDX5I6xNCXpA4x9CWpQwx9SeoQQ1+SOsTQl6QOMfQlqUMMfUnqEENfkjrE0JekDjH0JalDDH1J6pBpQz/JMUluSvKDJDuSfKjVP5fkriTb2t+qVk+STyUZTbI9ySl921qX5I72t26yfUqSDo9BfjlrH3BaVT2U5Cjgu0n+oi37var68kHtzwRWtr9XApcCr0xyHHARMAwUsDXJ5qq6fy4ORJI0vWnP9KvnoTZ7VPub6tfU1wKXt/VuAI5NcgJwBrClqva0oN8CrDm07kuSZmKgMf0ki5JsA+6jF9w3tkUXtyGcS5Ic3WpLgXv6Vh9rtcnqB+9rfZKRJCPj4+MzPBxJ0lQGCv2qeqSqVgHLgNVJfh24EHgR8ArgOOCDrXkm2sQU9YP3taGqhqtqeGhoaJDuSZIGNKOrd6rqAeB6YE1V7W5DOPuAPwZWt2ZjwPK+1ZYBu6aoS5LmySBX7wwlObZNPw14I/DDNk5PkgBnA7e1VTYD72xX8ZwK7K2q3cC1wOlJliRZApzeapKkeTLI1TsnAJuSLKL3IXFlVV2d5JtJhugN22wD/kVrfw1wFjAKPAy8G6Cq9iT5CHBza/fhqtozd4ciSZrOtKFfVduBl01QP22S9gWcP8myjcDGGfZRkjRHvCNXkjrE0JekDjH0JalDDH1J6hBDX5I6xNCXpA4x9CWpQwx9SeoQQ1+SOsTQl6QOMfQlqUMMfUnqEENfkjrE0JekDjH0JalDDH1J6hBDX5I6ZJDfyD0myU1JfpBkR5IPtfqJSW5MckeSLyV5aqsf3eZH2/IVfdu6sNV/lOSMw3VQkqSJDXKmvw84rap+A1gFrGk/eP5x4JKqWgncD5zX2p8H3F9VLwAuae1IchJwDnAysAb4TPvdXUnSPJk29KvnoTZ7VPsr4DTgy62+CTi7Ta9t87Tlb0iSVr+iqvZV1V30fjh99ZwchSRpIAON6SdZlGQbcB+wBfg/wANVtb81GQOWtumlwD0Abfle4Nn99QnWkSTNg4FCv6oeqapVwDJ6Z+cvnqhZe80kyyarP06S9UlGkoyMj48P0j1J0oBmdPVOVT0AXA+cChybZHFbtAzY1abHgOUAbfmzgD399QnW6d/HhqoarqrhoaGhmXRPkjSNQa7eGUpybJt+GvBGYCfwLeCtrdk64Ko2vbnN05Z/s6qq1c9pV/ecCKwEbpqrA5EkTW/x9E04AdjUrrR5CnBlVV2d5HbgiiQfBb4PXNbaXwZ8PskovTP8cwCqakeSK4Hbgf3A+VX1yNwejiRpKtOGflVtB142Qf1OJrj6pqr+BnjbJNu6GLh45t2UJM0F78iVpA4x9CWpQwx9SeoQQ1+SOsTQl6QOMfQlqUMMfUnqEENfkjrE0JekDjH0JalDDH1J6hBDX5I6xNCXpA4x9CWpQwx9SeoQQ1+SOsTQl6QOMfQlqUMG+WH05Um+lWRnkh1J3t/qf5jkJ0m2tb+z+ta5MMlokh8lOaOvvqbVRpNccHgOSZI0mUF+GH0/8IGquiXJM4GtSba0ZZdU1R/1N05yEr0fQz8Z+DXgG0le2BZ/GvhNYAy4Ocnmqrp9Lg5EkjS9QX4YfTewu00/mGQnsHSKVdYCV1TVPuCuJKM89gPqo+0H1UlyRWtr6EvSPJnRmH6SFcDLgBtb6b1JtifZmGRJqy0F7ulbbazVJqsfvI/1SUaSjIyPj8+ke5KkaQwc+kmeAfwZ8LtV9XPgUuD5wCp6/xL4xIGmE6xeU9QfX6jaUFXDVTU8NDQ0aPckSQMYZEyfJEfRC/wvVNVXAKrq3r7lnwWubrNjwPK+1ZcBu9r0ZHVJ0jwY5OqdAJcBO6vqk331E/qavQW4rU1vBs5JcnSSE4GVwE3AzcDKJCcmeSq9L3s3z81hSJIGMciZ/quBdwC3JtnWar8PnJtkFb0hmruB9wBU1Y4kV9L7gnY/cH5VPQKQ5L3AtcAiYGNV7ZjDY5EkTWOQq3e+y8Tj8ddMsc7FwMUT1K+Zaj1J0uHlHbmS1CGGviR1iKEvSR1i6EtShxj6ktQhhr4kdYihL0kdYuhLUocY+pLUIYa+JHWIoS9JHWLoS1KHGPqS1CGGviR1iKEvSR1i6EtShxj6ktQhhr4kdcggP4y+PMm3kuxMsiPJ+1v9uCRbktzRXpe0epJ8Ksloku1JTunb1rrW/o4k6w7fYUmSJjLImf5+4ANV9WLgVOD8JCcBFwDXVdVK4Lo2D3AmsLL9rQcuhd6HBHAR8EpgNXDRgQ8KSdL8mDb0q2p3Vd3Sph8EdgJLgbXAptZsE3B2m14LXF49NwDHJjkBOAPYUlV7qup+YAuwZk6PRpI0pRmN6SdZAbwMuBF4blXtht4HA/Cc1mwpcE/famOtNln94H2sTzKSZGR8fHwm3ZMkTWPg0E/yDODPgN+tqp9P1XSCWk1Rf3yhakNVDVfV8NDQ0KDdkyQNYKDQT3IUvcD/QlV9pZXvbcM2tNf7Wn0MWN63+jJg1xR1SdI8GeTqnQCXATur6pN9izYDB67AWQdc1Vd/Z7uK51Rgbxv+uRY4PcmS9gXu6a0mSZoniwdo82rgHcCtSba12u8DHwOuTHIe8GPgbW3ZNcBZwCjwMPBugKrak+QjwM2t3Yeras+cHIUkaSDThn5VfZeJx+MB3jBB+wLOn2RbG4GNM+mgJGnueEeuJHWIoS9JHWLoS1KHGPqS1CGGviR1iKEvSR1i6EtShxj6ktQhhr4kdYihL0kdYuhLUocY+pLUIYa+JHWIoS9JHWLoS1KHGPqS1CGGviR1yCC/kbsxyX1Jbuur/WGSnyTZ1v7O6lt2YZLRJD9KckZffU2rjSa5YO4PRZI0nUHO9D8HrJmgfklVrWp/1wAkOQk4Bzi5rfOZJIuSLAI+DZwJnASc29pKkubRIL+R+50kKwbc3lrgiqraB9yVZBRY3ZaNVtWdAEmuaG1vn3GPJUmzdihj+u9Nsr0N/yxptaXAPX1txlptsrokaR7NNvQvBZ4PrAJ2A59o9UzQtqaoP0GS9UlGkoyMj4/PsnuSpInMKvSr6t6qeqSqHgU+y2NDOGPA8r6my4BdU9Qn2vaGqhququGhoaHZdE+SNIlZhX6SE/pm3wIcuLJnM3BOkqOTnAisBG4CbgZWJjkxyVPpfdm7efbdliTNxrRf5Cb5IvA64PgkY8BFwOuSrKI3RHM38B6AqtqR5Ep6X9DuB86vqkfadt4LXAssAjZW1Y45PxpJ0pQGuXrn3AnKl03R/mLg4gnq1wDXzKh3kqQ55R25ktQhhr4kdYihL0kdMu2YvqTDZ8UFf77QXdCT1N0fe9Nh2a5n+pLUIYa+JHWIoS9JHWLoS1KHGPqS1CGGviR1iKEvSR1i6EtShxj6ktQhhr4kdYihL0kdYuhLUocY+pLUIYa+JHXItKGfZGOS+5Lc1lc7LsmWJHe01yWtniSfSjKaZHuSU/rWWdfa35Fk3eE5HEnSVAY50/8csOag2gXAdVW1EriuzQOcCaxsf+uBS6H3IUHvB9VfCawGLjrwQSFJmj/Thn5VfQfYc1B5LbCpTW8Czu6rX149NwDHJjkBOAPYUlV7qup+YAtP/CCRJB1msx3Tf25V7QZor89p9aXAPX3txlptsvoTJFmfZCTJyPj4+Cy7J0mayFx/kZsJajVF/YnFqg1VNVxVw0NDQ3PaOUnqutmG/r1t2Ib2el+rjwHL+9otA3ZNUZckzaPZhv5m4MAVOOuAq/rq72xX8ZwK7G3DP9cCpydZ0r7APb3VJEnzaPF0DZJ8EXgdcHySMXpX4XwMuDLJecCPgbe15tcAZwGjwMPAuwGqak+SjwA3t3YfrqqDvxyWJB1m04Z+VZ07yaI3TNC2gPMn2c5GYOOMeidJmlPekStJHWLoS1KHGPqS1CGGviR1iKEvSR1i6EtShxj6ktQhhr4kdYihL0kdYuhLUocY+pLUIYa+JHWIoS9JHWLoS1KHGPqS1CGGviR1iKEvSR1i6EtShxxS6Ce5O8mtSbYlGWm145JsSXJHe13S6knyqSSjSbYnOWUuDkCSNLi5ONN/fVWtqqrhNn8BcF1VrQSua/MAZwIr29964NI52LckaQYOx/DOWmBTm94EnN1Xv7x6bgCOTXLCYdi/JGkShxr6Bfxlkq1J1rfac6tqN0B7fU6rLwXu6Vt3rNUeJ8n6JCNJRsbHxw+xe5KkfosPcf1XV9WuJM8BtiT54RRtM0GtnlCo2gBsABgeHn7CcknS7B3SmX5V7Wqv9wFfBVYD9x4Ytmmv97XmY8DyvtWXAbsOZf+SpJmZdegneXqSZx6YBk4HbgM2A+tas3XAVW16M/DOdhXPqcDeA8NAkqT5cSjDO88FvprkwHb+tKq+nuRm4Mok5wE/Bt7W2l8DnAWMAg8D7z6EfUuSZmHWoV9VdwK/MUH9Z8AbJqgXcP5s9ydJOnTekStJHWLoS1KHGPqS1CGGviR1iKEvSR1i6EtShxj6ktQhhr4kdYihL0kdYuhLUocY+pLUIYa+JHWIoS9JHWLoS1KHGPqS1CGGviR1iKEvSR1i6EtSh8x76CdZk+RHSUaTXDDf+5ekLpvX0E+yCPg0cCZwEnBukpPmsw+S1GXzfaa/Ghitqjur6hfAFcDaee6DJHXW4nne31Lgnr75MeCV/Q2SrAfWt9mHkvxonvp2pDse+OlCd+LJIh9f6B5oAr5H+xzie/TvTbZgvkM/E9TqcTNVG4AN89Od7kgyUlXDC90PaTK+R+fHfA/vjAHL++aXAbvmuQ+S1FnzHfo3AyuTnJjkqcA5wOZ57oMkdda8Du9U1f4k7wWuBRYBG6tqx3z2ocMcMtOTne/ReZCqmr6VJOmI4B25ktQhhr4kdYihr1lJck2SYxe6H9IBSa5P4iWf05jv6/R1hKiqsxa6DzpyJFlcVfsXuh9d4Jn+AkqyIskPk2xKsj3Jl5P8SpK7k3woyS1Jbk3yotb+6Uk2Jrk5yfeTrG31dyX5r33bvTrJ69r0Q0k+nmRrkm8kWd3OiO5M8lutzTFJ/rjt6/tJXt+33a8k+XqSO5L8x7593J3k+Db9P9r2d7Q7qtVB7f28M8ln23vhL5M8LcmqJDe09/hXkyxp7a9P8h+SfBt4f5LPJbk0ybfa+/O17f2+M8nn+vZzaZKRto8PLdTx/l1l6C+8vw9sqKqXAj8H/mWr/7SqTgEuBf5Nq/0B8M2qegXweuA/JXn6NNt/OnB9Vb0ceBD4KPCbwFuAD7c25wNU1UuAc4FNSY5py1YBbwdeArw9Sf/NdQf8s7b9YeB9SZ498NHrSLMS+HRVnQw8APw2cDnwwfYevxW4qK/9sVX12qr6RJtfApwG/Gvga8AlwMnAS5Ksam3+oN25+1LgtUleergP6khi6C+8e6rqe236T4DXtOmvtNetwIo2fTpwQZJtwPXAMcDzptn+L4Cvt+lbgW9X1S/b9IHtvgb4PEBV/RD4K+CFbdl1VbW3qv4GuJ2Jn+nxviQ/AG6gd8f1ymn6pCPXXVW1rU1vBZ5PL9i/3WqbgH/Y1/5LB63/tepdR34rcG9V3VpVjwI7eOz9+o+T3AJ8n94Hgk/qnQHH9BfewTdKHJjf114f4bH/TwF+u6oe9xC6JC/n8R/gx/RN/7Ieuxnj0QPbrapHk/RvdzL7+qb7+3Jg368D3gi8qqoeTnL9QftXtxz8fpnuy/6/nmT9R3n8th4FFic5kd6/fF9RVfe3YR/fbzPgmf7Ce16SV7Xpc4HvTtH2WuBfJQlAkpe1+t3AqiRPacMvq2fYh+8Av9O2+UJ6/3oY9OmmzwLub4H/IuDUGe5bR7a9wP1J/kGbfwfw7SnaT+dX6X1Q7E3yXHq/zaEZMPQX3k5gXZLtwHH0xvAn8xHgKGB7ktvaPMD3gLvo/ZP4j4BbZtiHzwCLktxK75/b76qqfdOsc8DX6Z2BbW/9uWGG+9aRbx2975+20/uO6MPTtJ9UVf2A3rDODmAjvfe+ZsDHMCygJCuAq6vq1xe4K5I6wjN9SeoQz/QlqUM805ekDjH0JalDDH1J6hBDX5I6xNCXpA75/2ZqYeOWay7tAAAAAElFTkSuQmCC\n",
      "text/plain": [
       "<Figure size 432x288 with 1 Axes>"
      ]
     },
     "metadata": {
      "needs_background": "light"
     },
     "output_type": "display_data"
    },
    {
     "data": {
      "image/png": "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\n",
      "text/plain": [
       "<Figure size 432x288 with 1 Axes>"
      ]
     },
     "metadata": {
      "needs_background": "light"
     },
     "output_type": "display_data"
    }
   ],
   "source": [
    "plt.bar([\"pneumonia\",\"normal\"], [len(Pimages), len(Nimages)])\n",
    "plt.title(\"Training\")\n",
    "plt.show()\n",
    "\n",
    "Pimages_test = os.listdir(test_dir+\"PNEUMONIA\")\n",
    "Nimages_test = os.listdir(test_dir+\"NORMAL\")\n",
    "\n",
    "plt.bar([\"pneumonia\",\"normal\"], [len(Pimages_test), len(Nimages_test)])\n",
    "plt.title(\"Testing\")\n",
    "plt.show()"
   ]
  },
  {
   "cell_type": "code",
   "execution_count": 14,
   "metadata": {},
   "outputs": [
    {
     "name": "stderr",
     "output_type": "stream",
     "text": [
      "C:\\Users\\91989\\Anaconda3\\lib\\site-packages\\keras\\callbacks\\callbacks.py:998: UserWarning: `epsilon` argument is deprecated and will be removed, use `min_delta` instead.\n",
      "  warnings.warn('`epsilon` argument is deprecated and '\n"
     ]
    }
   ],
   "source": [
    "from keras.callbacks import ReduceLROnPlateau, ModelCheckpoint\n",
    "lr_reduce = ReduceLROnPlateau(monitor='val_acc', factor=0.1, epsilon=0.0001, patience=1, verbose=1)"
   ]
  },
  {
   "cell_type": "code",
   "execution_count": 15,
   "metadata": {},
   "outputs": [],
   "source": [
    "filepath = \"/home/nikhil/Desktop/Jupyter_WorkSpace/Project/Pneumonia_Project/data/output/weights.hdf5\"\n",
    "checkpoint = ModelCheckpoint(filepath, monitor='val_acc', verbose=1, save_best_only=True, mode='max')"
   ]
  },
  {
   "cell_type": "code",
   "execution_count": 16,
   "metadata": {},
   "outputs": [],
   "source": [
    "from keras.models import Sequential\n",
    "from keras.layers import Dense, Activation\n",
    "from keras.layers import Dropout\n",
    "from keras.layers import Flatten,Flatten\n",
    "from keras.constraints import maxnorm\n",
    "from keras.optimizers import SGD, RMSprop\n",
    "from keras.layers import Conv2D, BatchNormalization\n",
    "from keras.layers import MaxPooling2D\n",
    "from keras.utils import np_utils\n",
    "from keras import backend as K\n",
    "from sklearn.model_selection import GridSearchCV\n",
    "from keras.wrappers.scikit_learn import KerasClassifier"
   ]
  },
  {
   "cell_type": "code",
   "execution_count": 17,
   "metadata": {},
   "outputs": [],
   "source": [
    "X_train = X_train.reshape(5216,150,150,3)\n",
    "X_test = X_test.reshape(624,150,150,3)"
   ]
  },
  {
   "cell_type": "code",
   "execution_count": 18,
   "metadata": {},
   "outputs": [
    {
     "name": "stdout",
     "output_type": "stream",
     "text": [
      "Model: \"sequential_1\"\n",
      "_________________________________________________________________\n",
      "Layer (type)                 Output Shape              Param #   \n",
      "=================================================================\n",
      "conv2d_1 (Conv2D)            (None, 150, 150, 16)      448       \n",
      "_________________________________________________________________\n",
      "batch_normalization_1 (Batch (None, 150, 150, 16)      64        \n",
      "_________________________________________________________________\n",
      "activation_1 (Activation)    (None, 150, 150, 16)      0         \n",
      "_________________________________________________________________\n",
      "conv2d_2 (Conv2D)            (None, 150, 150, 16)      2320      \n",
      "_________________________________________________________________\n",
      "batch_normalization_2 (Batch (None, 150, 150, 16)      64        \n",
      "_________________________________________________________________\n",
      "activation_2 (Activation)    (None, 150, 150, 16)      0         \n",
      "_________________________________________________________________\n",
      "max_pooling2d_1 (MaxPooling2 (None, 75, 75, 16)        0         \n",
      "_________________________________________________________________\n",
      "conv2d_3 (Conv2D)            (None, 75, 75, 32)        4640      \n",
      "_________________________________________________________________\n",
      "batch_normalization_3 (Batch (None, 75, 75, 32)        128       \n",
      "_________________________________________________________________\n",
      "activation_3 (Activation)    (None, 75, 75, 32)        0         \n",
      "_________________________________________________________________\n",
      "conv2d_4 (Conv2D)            (None, 75, 75, 32)        9248      \n",
      "_________________________________________________________________\n",
      "batch_normalization_4 (Batch (None, 75, 75, 32)        128       \n",
      "_________________________________________________________________\n",
      "activation_4 (Activation)    (None, 75, 75, 32)        0         \n",
      "_________________________________________________________________\n",
      "max_pooling2d_2 (MaxPooling2 (None, 37, 37, 32)        0         \n",
      "_________________________________________________________________\n",
      "conv2d_5 (Conv2D)            (None, 37, 37, 64)        18496     \n",
      "_________________________________________________________________\n",
      "batch_normalization_5 (Batch (None, 37, 37, 64)        256       \n",
      "_________________________________________________________________\n",
      "activation_5 (Activation)    (None, 37, 37, 64)        0         \n",
      "_________________________________________________________________\n",
      "max_pooling2d_3 (MaxPooling2 (None, 18, 18, 64)        0         \n",
      "_________________________________________________________________\n",
      "conv2d_6 (Conv2D)            (None, 18, 18, 96)        55392     \n",
      "_________________________________________________________________\n",
      "batch_normalization_6 (Batch (None, 18, 18, 96)        384       \n",
      "_________________________________________________________________\n",
      "activation_6 (Activation)    (None, 18, 18, 96)        0         \n",
      "_________________________________________________________________\n",
      "conv2d_7 (Conv2D)            (None, 16, 16, 96)        83040     \n",
      "_________________________________________________________________\n",
      "batch_normalization_7 (Batch (None, 16, 16, 96)        384       \n",
      "_________________________________________________________________\n",
      "activation_7 (Activation)    (None, 16, 16, 96)        0         \n",
      "_________________________________________________________________\n",
      "max_pooling2d_4 (MaxPooling2 (None, 8, 8, 96)          0         \n",
      "_________________________________________________________________\n",
      "conv2d_8 (Conv2D)            (None, 8, 8, 128)         110720    \n",
      "_________________________________________________________________\n",
      "batch_normalization_8 (Batch (None, 8, 8, 128)         512       \n",
      "_________________________________________________________________\n",
      "activation_8 (Activation)    (None, 8, 8, 128)         0         \n",
      "_________________________________________________________________\n",
      "conv2d_9 (Conv2D)            (None, 6, 6, 128)         147584    \n",
      "_________________________________________________________________\n",
      "batch_normalization_9 (Batch (None, 6, 6, 128)         512       \n",
      "_________________________________________________________________\n",
      "activation_9 (Activation)    (None, 6, 6, 128)         0         \n",
      "_________________________________________________________________\n",
      "max_pooling2d_5 (MaxPooling2 (None, 3, 3, 128)         0         \n",
      "_________________________________________________________________\n",
      "flatten_1 (Flatten)          (None, 1152)              0         \n",
      "_________________________________________________________________\n",
      "dense_1 (Dense)              (None, 64)                73792     \n",
      "_________________________________________________________________\n",
      "dropout_1 (Dropout)          (None, 64)                0         \n",
      "_________________________________________________________________\n",
      "dense_2 (Dense)              (None, 2)                 130       \n",
      "=================================================================\n",
      "Total params: 508,242\n",
      "Trainable params: 507,026\n",
      "Non-trainable params: 1,216\n",
      "_________________________________________________________________\n",
      "None\n"
     ]
    }
   ],
   "source": [
    "from keras.layers.normalization import BatchNormalization\n",
    "\n",
    "def swish_activation(x):\n",
    "    return (K.sigmoid(x) * x)\n",
    "\n",
    "model = Sequential()\n",
    "\n",
    "# model.add(Conv2D(16, (3, 3), activation='relu', padding='same', input_shape=(150,150,3)))\n",
    "model.add(Conv2D(16, (3, 3), padding=\"same\",input_shape=(150,150,3)))\n",
    "model.add(BatchNormalization())\n",
    "model.add(Activation('relu'))\n",
    "model.add(Conv2D(16, (3,3), padding=\"same\"))\n",
    "model.add(BatchNormalization())\n",
    "model.add(Activation('relu'))\n",
    "model.add(MaxPooling2D(pool_size=(2, 2)))\n",
    "\n",
    "# model.add(Conv2D(32, (3, 3), activation='relu', padding='same', input_shape=(150,150,3)))\n",
    "model.add(Conv2D(32, (3, 3), padding=\"same\", input_shape=(150,150,3)))\n",
    "model.add(BatchNormalization())\n",
    "model.add(Activation('relu'))\n",
    "model.add(Conv2D(32, (3, 3), padding=\"same\"))\n",
    "model.add(BatchNormalization())\n",
    "model.add(Activation('relu'))\n",
    "model.add(MaxPooling2D(pool_size=(2, 2)))\n",
    "\n",
    "# model.add(Conv2D(64, (3, 3), activation='relu', padding='same'))\n",
    "model.add(Conv2D(64, (3, 3), padding=\"same\"))\n",
    "model.add(BatchNormalization())\n",
    "model.add(Activation('relu'))\n",
    "model.add(MaxPooling2D(pool_size=(2, 2)))\n",
    "\n",
    "# model.add(Conv2D(96, (3, 3), dilation_rate=(2, 2), activation='relu', padding='same'))\n",
    "model.add(Conv2D(96, (3, 3), dilation_rate=(2,2), padding=\"same\"))\n",
    "model.add(BatchNormalization())\n",
    "model.add(Activation('relu'))\n",
    "model.add(Conv2D(96, (3, 3), padding=\"valid\"))\n",
    "model.add(BatchNormalization())\n",
    "model.add(Activation('relu'))\n",
    "model.add(MaxPooling2D(pool_size=(2, 2)))\n",
    "\n",
    "# model.add(Conv2D(128, (3, 3), dilation_rate=(2, 2), activation='relu', padding='same'))\n",
    "model.add(Conv2D(128, (3, 3), dilation_rate=(2,2), padding=\"same\"))\n",
    "model.add(BatchNormalization())\n",
    "model.add(Activation('relu'))\n",
    "model.add(Conv2D(128, (3,3), padding=\"valid\"))\n",
    "model.add(BatchNormalization())\n",
    "model.add(Activation('relu'))\n",
    "model.add(MaxPooling2D(pool_size=(2, 2)))\n",
    "\n",
    "model.add(Flatten())\n",
    "\n",
    "model.add(Dense(64, activation=swish_activation))\n",
    "model.add(Dropout(0.4))\n",
    "model.add(Dense(2 , activation='sigmoid'))\n",
    "\n",
    "model.compile(loss='binary_crossentropy', optimizer=RMSprop(lr=0.00005), metrics=['accuracy'])\n",
    "\n",
    "print(model.summary())\n"
   ]
  },
  {
   "cell_type": "code",
   "execution_count": 19,
   "metadata": {},
   "outputs": [],
   "source": [
    "batch_size=256\n",
    "epochs=5"
   ]
  },
  {
   "cell_type": "code",
   "execution_count": 20,
   "metadata": {},
   "outputs": [
    {
     "name": "stdout",
     "output_type": "stream",
     "text": [
      "Train on 5216 samples, validate on 624 samples\n",
      "Epoch 1/5\n",
      "5216/5216 [==============================] - ETA: 21:15 - loss: 0.9439 - accuracy: 0.531 - ETA: 14:16 - loss: 0.7863 - accuracy: 0.609 - ETA: 11:45 - loss: 0.7407 - accuracy: 0.619 - ETA: 10:22 - loss: 0.7192 - accuracy: 0.644 - ETA: 9:37 - loss: 0.6631 - accuracy: 0.678 - ETA: 9:07 - loss: 0.6343 - accuracy: 0.70 - ETA: 8:45 - loss: 0.6167 - accuracy: 0.71 - ETA: 8:26 - loss: 0.5868 - accuracy: 0.72 - ETA: 8:12 - loss: 0.5613 - accuracy: 0.74 - ETA: 8:01 - loss: 0.5477 - accuracy: 0.75 - ETA: 7:51 - loss: 0.5409 - accuracy: 0.75 - ETA: 7:44 - loss: 0.5278 - accuracy: 0.76 - ETA: 7:37 - loss: 0.5163 - accuracy: 0.76 - ETA: 7:29 - loss: 0.5225 - accuracy: 0.76 - ETA: 7:23 - loss: 0.5160 - accuracy: 0.76 - ETA: 7:16 - loss: 0.5078 - accuracy: 0.77 - ETA: 7:11 - loss: 0.4903 - accuracy: 0.78 - ETA: 7:07 - loss: 0.4851 - accuracy: 0.78 - ETA: 7:02 - loss: 0.4809 - accuracy: 0.78 - ETA: 6:57 - loss: 0.4691 - accuracy: 0.79 - ETA: 6:52 - loss: 0.4680 - accuracy: 0.79 - ETA: 6:48 - loss: 0.4675 - accuracy: 0.79 - ETA: 6:43 - loss: 0.4657 - accuracy: 0.79 - ETA: 6:39 - loss: 0.4627 - accuracy: 0.79 - ETA: 6:35 - loss: 0.4596 - accuracy: 0.79 - ETA: 6:31 - loss: 0.4524 - accuracy: 0.79 - ETA: 6:27 - loss: 0.4479 - accuracy: 0.80 - ETA: 6:23 - loss: 0.4397 - accuracy: 0.80 - ETA: 6:20 - loss: 0.4349 - accuracy: 0.81 - ETA: 6:16 - loss: 0.4313 - accuracy: 0.81 - ETA: 6:13 - loss: 0.4251 - accuracy: 0.81 - ETA: 6:09 - loss: 0.4171 - accuracy: 0.82 - ETA: 6:04 - loss: 0.4106 - accuracy: 0.82 - ETA: 5:58 - loss: 0.4065 - accuracy: 0.82 - ETA: 5:52 - loss: 0.4039 - accuracy: 0.82 - ETA: 5:47 - loss: 0.4030 - accuracy: 0.82 - ETA: 5:42 - loss: 0.3975 - accuracy: 0.83 - ETA: 5:38 - loss: 0.3910 - accuracy: 0.83 - ETA: 5:33 - loss: 0.3857 - accuracy: 0.83 - ETA: 5:28 - loss: 0.3821 - accuracy: 0.83 - ETA: 5:23 - loss: 0.3784 - accuracy: 0.84 - ETA: 5:18 - loss: 0.3772 - accuracy: 0.84 - ETA: 5:13 - loss: 0.3724 - accuracy: 0.84 - ETA: 5:09 - loss: 0.3675 - accuracy: 0.84 - ETA: 5:05 - loss: 0.3711 - accuracy: 0.84 - ETA: 5:01 - loss: 0.3685 - accuracy: 0.84 - ETA: 4:57 - loss: 0.3641 - accuracy: 0.84 - ETA: 4:53 - loss: 0.3629 - accuracy: 0.84 - ETA: 4:49 - loss: 0.3630 - accuracy: 0.84 - ETA: 4:45 - loss: 0.3595 - accuracy: 0.84 - ETA: 4:42 - loss: 0.3558 - accuracy: 0.85 - ETA: 4:38 - loss: 0.3519 - accuracy: 0.85 - ETA: 4:35 - loss: 0.3505 - accuracy: 0.85 - ETA: 4:31 - loss: 0.3495 - accuracy: 0.85 - ETA: 4:28 - loss: 0.3473 - accuracy: 0.85 - ETA: 4:24 - loss: 0.3434 - accuracy: 0.85 - ETA: 4:21 - loss: 0.3429 - accuracy: 0.85 - ETA: 4:17 - loss: 0.3426 - accuracy: 0.85 - ETA: 4:14 - loss: 0.3409 - accuracy: 0.85 - ETA: 4:11 - loss: 0.3388 - accuracy: 0.85 - ETA: 4:08 - loss: 0.3377 - accuracy: 0.85 - ETA: 4:05 - loss: 0.3356 - accuracy: 0.85 - ETA: 4:02 - loss: 0.3333 - accuracy: 0.86 - ETA: 3:59 - loss: 0.3321 - accuracy: 0.86 - ETA: 3:56 - loss: 0.3313 - accuracy: 0.86 - ETA: 3:53 - loss: 0.3288 - accuracy: 0.86 - ETA: 3:50 - loss: 0.3267 - accuracy: 0.86 - ETA: 3:47 - loss: 0.3238 - accuracy: 0.86 - ETA: 3:44 - loss: 0.3232 - accuracy: 0.86 - ETA: 3:41 - loss: 0.3220 - accuracy: 0.86 - ETA: 3:38 - loss: 0.3214 - accuracy: 0.86 - ETA: 3:36 - loss: 0.3194 - accuracy: 0.86 - ETA: 3:33 - loss: 0.3175 - accuracy: 0.86 - ETA: 3:30 - loss: 0.3169 - accuracy: 0.86 - ETA: 3:27 - loss: 0.3140 - accuracy: 0.87 - ETA: 3:24 - loss: 0.3107 - accuracy: 0.87 - ETA: 3:22 - loss: 0.3077 - accuracy: 0.87 - ETA: 3:19 - loss: 0.3050 - accuracy: 0.87 - ETA: 3:16 - loss: 0.3028 - accuracy: 0.87 - ETA: 3:13 - loss: 0.3037 - accuracy: 0.87 - ETA: 3:10 - loss: 0.3031 - accuracy: 0.87 - ETA: 3:08 - loss: 0.3014 - accuracy: 0.87 - ETA: 3:05 - loss: 0.3008 - accuracy: 0.87 - ETA: 3:02 - loss: 0.2983 - accuracy: 0.87 - ETA: 3:00 - loss: 0.2966 - accuracy: 0.88 - ETA: 2:57 - loss: 0.2950 - accuracy: 0.88 - ETA: 2:55 - loss: 0.2983 - accuracy: 0.87 - ETA: 2:52 - loss: 0.2967 - accuracy: 0.88 - ETA: 2:49 - loss: 0.2954 - accuracy: 0.88 - ETA: 2:47 - loss: 0.2949 - accuracy: 0.88 - ETA: 2:44 - loss: 0.2936 - accuracy: 0.88 - ETA: 2:42 - loss: 0.2941 - accuracy: 0.88 - ETA: 2:39 - loss: 0.2951 - accuracy: 0.88 - ETA: 2:37 - loss: 0.2949 - accuracy: 0.88 - ETA: 2:34 - loss: 0.2939 - accuracy: 0.88 - ETA: 2:32 - loss: 0.2924 - accuracy: 0.88 - ETA: 2:29 - loss: 0.2911 - accuracy: 0.88 - ETA: 2:27 - loss: 0.2900 - accuracy: 0.88 - ETA: 2:24 - loss: 0.2881 - accuracy: 0.88 - ETA: 2:22 - loss: 0.2866 - accuracy: 0.88 - ETA: 2:20 - loss: 0.2852 - accuracy: 0.88 - ETA: 2:17 - loss: 0.2836 - accuracy: 0.88 - ETA: 2:15 - loss: 0.2823 - accuracy: 0.88 - ETA: 2:12 - loss: 0.2846 - accuracy: 0.88 - ETA: 2:10 - loss: 0.2831 - accuracy: 0.88 - ETA: 2:08 - loss: 0.2828 - accuracy: 0.88 - ETA: 2:05 - loss: 0.2817 - accuracy: 0.88 - ETA: 2:03 - loss: 0.2799 - accuracy: 0.88 - ETA: 2:00 - loss: 0.2789 - accuracy: 0.88 - ETA: 1:58 - loss: 0.2787 - accuracy: 0.88 - ETA: 1:56 - loss: 0.2773 - accuracy: 0.88 - ETA: 1:53 - loss: 0.2762 - accuracy: 0.89 - ETA: 1:51 - loss: 0.2758 - accuracy: 0.89 - ETA: 1:49 - loss: 0.2741 - accuracy: 0.89 - ETA: 1:47 - loss: 0.2740 - accuracy: 0.89 - ETA: 1:44 - loss: 0.2738 - accuracy: 0.89 - ETA: 1:42 - loss: 0.2738 - accuracy: 0.89 - ETA: 1:40 - loss: 0.2731 - accuracy: 0.89 - ETA: 1:37 - loss: 0.2723 - accuracy: 0.89 - ETA: 1:35 - loss: 0.2716 - accuracy: 0.89 - ETA: 1:33 - loss: 0.2704 - accuracy: 0.89 - ETA: 1:31 - loss: 0.2700 - accuracy: 0.89 - ETA: 1:28 - loss: 0.2690 - accuracy: 0.89 - ETA: 1:26 - loss: 0.2681 - accuracy: 0.89 - ETA: 1:24 - loss: 0.2666 - accuracy: 0.89 - ETA: 1:21 - loss: 0.2658 - accuracy: 0.89 - ETA: 1:19 - loss: 0.2660 - accuracy: 0.89 - ETA: 1:17 - loss: 0.2644 - accuracy: 0.89 - ETA: 1:15 - loss: 0.2631 - accuracy: 0.89 - ETA: 1:12 - loss: 0.2622 - accuracy: 0.89 - ETA: 1:10 - loss: 0.2612 - accuracy: 0.89 - ETA: 1:08 - loss: 0.2607 - accuracy: 0.89 - ETA: 1:06 - loss: 0.2605 - accuracy: 0.89 - ETA: 1:03 - loss: 0.2596 - accuracy: 0.89 - ETA: 1:01 - loss: 0.2582 - accuracy: 0.89 - ETA: 59s - loss: 0.2576 - accuracy: 0.8990 - ETA: 57s - loss: 0.2568 - accuracy: 0.899 - ETA: 54s - loss: 0.2556 - accuracy: 0.899 - ETA: 52s - loss: 0.2555 - accuracy: 0.899 - ETA: 50s - loss: 0.2547 - accuracy: 0.899 - ETA: 48s - loss: 0.2536 - accuracy: 0.900 - ETA: 46s - loss: 0.2523 - accuracy: 0.901 - ETA: 43s - loss: 0.2524 - accuracy: 0.901 - ETA: 41s - loss: 0.2512 - accuracy: 0.901 - ETA: 39s - loss: 0.2500 - accuracy: 0.902 - ETA: 37s - loss: 0.2488 - accuracy: 0.902 - ETA: 35s - loss: 0.2481 - accuracy: 0.903 - ETA: 32s - loss: 0.2470 - accuracy: 0.903 - ETA: 30s - loss: 0.2480 - accuracy: 0.903 - ETA: 28s - loss: 0.2471 - accuracy: 0.903 - ETA: 26s - loss: 0.2460 - accuracy: 0.904 - ETA: 24s - loss: 0.2457 - accuracy: 0.904 - ETA: 21s - loss: 0.2443 - accuracy: 0.905 - ETA: 19s - loss: 0.2436 - accuracy: 0.905 - ETA: 17s - loss: 0.2430 - accuracy: 0.905 - ETA: 15s - loss: 0.2420 - accuracy: 0.905 - ETA: 13s - loss: 0.2411 - accuracy: 0.906 - ETA: 10s - loss: 0.2409 - accuracy: 0.906 - ETA: 8s - loss: 0.2402 - accuracy: 0.906 - ETA: 6s - loss: 0.2402 - accuracy: 0.90 - ETA: 4s - loss: 0.2399 - accuracy: 0.90 - ETA: 2s - loss: 0.2401 - accuracy: 0.90 - 366s 70ms/step - loss: 0.2395 - accuracy: 0.9064 - val_loss: 0.8153 - val_accuracy: 0.6250\n"
     ]
    },
    {
     "name": "stderr",
     "output_type": "stream",
     "text": [
      "C:\\Users\\91989\\Anaconda3\\lib\\site-packages\\keras\\callbacks\\callbacks.py:1042: RuntimeWarning: Reduce LR on plateau conditioned on metric `val_acc` which is not available. Available metrics are: val_loss,val_accuracy,loss,accuracy,lr\n",
      "  (self.monitor, ','.join(list(logs.keys()))), RuntimeWarning\n",
      "C:\\Users\\91989\\Anaconda3\\lib\\site-packages\\keras\\callbacks\\callbacks.py:707: RuntimeWarning: Can save best model only with val_acc available, skipping.\n",
      "  'skipping.' % (self.monitor), RuntimeWarning)\n"
     ]
    },
    {
     "name": "stdout",
     "output_type": "stream",
     "text": [
      "Epoch 2/5\n",
      "5216/5216 [==============================] - ETA: 5:47 - loss: 0.2431 - accuracy: 0.96 - ETA: 5:35 - loss: 0.1794 - accuracy: 0.96 - ETA: 5:36 - loss: 0.1499 - accuracy: 0.97 - ETA: 5:28 - loss: 0.1575 - accuracy: 0.96 - ETA: 5:24 - loss: 0.1374 - accuracy: 0.97 - ETA: 5:22 - loss: 0.1279 - accuracy: 0.97 - ETA: 5:19 - loss: 0.1149 - accuracy: 0.97 - ETA: 5:15 - loss: 0.1133 - accuracy: 0.97 - ETA: 5:12 - loss: 0.1160 - accuracy: 0.97 - ETA: 5:10 - loss: 0.1212 - accuracy: 0.97 - ETA: 5:09 - loss: 0.1212 - accuracy: 0.97 - ETA: 5:06 - loss: 0.1168 - accuracy: 0.97 - ETA: 5:03 - loss: 0.1119 - accuracy: 0.97 - ETA: 5:00 - loss: 0.1079 - accuracy: 0.97 - ETA: 4:58 - loss: 0.1114 - accuracy: 0.97 - ETA: 4:55 - loss: 0.1187 - accuracy: 0.96 - ETA: 4:52 - loss: 0.1169 - accuracy: 0.96 - ETA: 4:51 - loss: 0.1134 - accuracy: 0.96 - ETA: 4:50 - loss: 0.1129 - accuracy: 0.96 - ETA: 4:48 - loss: 0.1126 - accuracy: 0.96 - ETA: 4:45 - loss: 0.1171 - accuracy: 0.96 - ETA: 4:43 - loss: 0.1159 - accuracy: 0.96 - ETA: 4:41 - loss: 0.1183 - accuracy: 0.96 - ETA: 4:39 - loss: 0.1187 - accuracy: 0.96 - ETA: 4:36 - loss: 0.1171 - accuracy: 0.96 - ETA: 4:34 - loss: 0.1262 - accuracy: 0.95 - ETA: 4:33 - loss: 0.1258 - accuracy: 0.95 - ETA: 4:31 - loss: 0.1250 - accuracy: 0.95 - ETA: 4:28 - loss: 0.1238 - accuracy: 0.95 - ETA: 4:26 - loss: 0.1244 - accuracy: 0.95 - ETA: 4:24 - loss: 0.1226 - accuracy: 0.95 - ETA: 4:22 - loss: 0.1221 - accuracy: 0.96 - ETA: 4:19 - loss: 0.1202 - accuracy: 0.96 - ETA: 4:18 - loss: 0.1214 - accuracy: 0.96 - ETA: 4:16 - loss: 0.1199 - accuracy: 0.96 - ETA: 4:14 - loss: 0.1186 - accuracy: 0.96 - ETA: 4:12 - loss: 0.1215 - accuracy: 0.95 - ETA: 4:10 - loss: 0.1191 - accuracy: 0.95 - ETA: 4:08 - loss: 0.1187 - accuracy: 0.95 - ETA: 4:05 - loss: 0.1173 - accuracy: 0.96 - ETA: 4:04 - loss: 0.1173 - accuracy: 0.96 - ETA: 4:02 - loss: 0.1195 - accuracy: 0.95 - ETA: 4:01 - loss: 0.1187 - accuracy: 0.95 - ETA: 3:59 - loss: 0.1166 - accuracy: 0.96 - ETA: 3:58 - loss: 0.1196 - accuracy: 0.95 - ETA: 3:56 - loss: 0.1205 - accuracy: 0.95 - ETA: 3:54 - loss: 0.1198 - accuracy: 0.95 - ETA: 3:53 - loss: 0.1183 - accuracy: 0.95 - ETA: 3:51 - loss: 0.1171 - accuracy: 0.95 - ETA: 3:49 - loss: 0.1191 - accuracy: 0.95 - ETA: 3:47 - loss: 0.1197 - accuracy: 0.95 - ETA: 3:45 - loss: 0.1188 - accuracy: 0.95 - ETA: 3:43 - loss: 0.1195 - accuracy: 0.95 - ETA: 3:41 - loss: 0.1183 - accuracy: 0.95 - ETA: 3:38 - loss: 0.1172 - accuracy: 0.95 - ETA: 3:36 - loss: 0.1166 - accuracy: 0.95 - ETA: 3:34 - loss: 0.1153 - accuracy: 0.95 - ETA: 3:32 - loss: 0.1149 - accuracy: 0.95 - ETA: 3:30 - loss: 0.1147 - accuracy: 0.95 - ETA: 3:28 - loss: 0.1140 - accuracy: 0.95 - ETA: 3:26 - loss: 0.1153 - accuracy: 0.95 - ETA: 3:24 - loss: 0.1143 - accuracy: 0.95 - ETA: 3:22 - loss: 0.1134 - accuracy: 0.95 - ETA: 3:19 - loss: 0.1135 - accuracy: 0.95 - ETA: 3:17 - loss: 0.1136 - accuracy: 0.95 - ETA: 3:15 - loss: 0.1129 - accuracy: 0.95 - ETA: 3:14 - loss: 0.1134 - accuracy: 0.95 - ETA: 3:12 - loss: 0.1123 - accuracy: 0.95 - ETA: 3:10 - loss: 0.1132 - accuracy: 0.95 - ETA: 3:07 - loss: 0.1124 - accuracy: 0.95 - ETA: 3:05 - loss: 0.1121 - accuracy: 0.95 - ETA: 3:03 - loss: 0.1113 - accuracy: 0.95 - ETA: 3:01 - loss: 0.1116 - accuracy: 0.96 - ETA: 2:59 - loss: 0.1109 - accuracy: 0.96 - ETA: 2:57 - loss: 0.1120 - accuracy: 0.96 - ETA: 2:55 - loss: 0.1110 - accuracy: 0.96 - ETA: 2:53 - loss: 0.1106 - accuracy: 0.96 - ETA: 2:51 - loss: 0.1095 - accuracy: 0.96 - ETA: 2:49 - loss: 0.1097 - accuracy: 0.96 - ETA: 2:47 - loss: 0.1114 - accuracy: 0.96 - ETA: 2:45 - loss: 0.1108 - accuracy: 0.96 - ETA: 2:43 - loss: 0.1100 - accuracy: 0.96 - ETA: 2:41 - loss: 0.1098 - accuracy: 0.96 - ETA: 2:39 - loss: 0.1103 - accuracy: 0.96 - ETA: 2:37 - loss: 0.1101 - accuracy: 0.96 - ETA: 2:35 - loss: 0.1102 - accuracy: 0.96 - ETA: 2:33 - loss: 0.1133 - accuracy: 0.96 - ETA: 2:31 - loss: 0.1128 - accuracy: 0.96 - ETA: 2:29 - loss: 0.1123 - accuracy: 0.96 - ETA: 2:27 - loss: 0.1114 - accuracy: 0.96 - ETA: 2:25 - loss: 0.1109 - accuracy: 0.96 - ETA: 2:23 - loss: 0.1111 - accuracy: 0.96 - ETA: 2:20 - loss: 0.1108 - accuracy: 0.96 - ETA: 2:18 - loss: 0.1100 - accuracy: 0.96 - ETA: 2:16 - loss: 0.1097 - accuracy: 0.96 - ETA: 2:14 - loss: 0.1096 - accuracy: 0.96 - ETA: 2:12 - loss: 0.1106 - accuracy: 0.96 - ETA: 2:11 - loss: 0.1100 - accuracy: 0.96 - ETA: 2:09 - loss: 0.1093 - accuracy: 0.96 - ETA: 2:07 - loss: 0.1117 - accuracy: 0.96 - ETA: 2:05 - loss: 0.1118 - accuracy: 0.96 - ETA: 2:03 - loss: 0.1112 - accuracy: 0.96 - ETA: 2:00 - loss: 0.1106 - accuracy: 0.96 - ETA: 1:58 - loss: 0.1102 - accuracy: 0.96 - ETA: 1:56 - loss: 0.1108 - accuracy: 0.96 - ETA: 1:54 - loss: 0.1119 - accuracy: 0.96 - ETA: 1:52 - loss: 0.1122 - accuracy: 0.96 - ETA: 1:50 - loss: 0.1120 - accuracy: 0.96 - ETA: 1:48 - loss: 0.1121 - accuracy: 0.96 - ETA: 1:46 - loss: 0.1116 - accuracy: 0.96 - ETA: 1:44 - loss: 0.1113 - accuracy: 0.96 - ETA: 1:42 - loss: 0.1119 - accuracy: 0.96 - ETA: 1:40 - loss: 0.1126 - accuracy: 0.96 - ETA: 1:38 - loss: 0.1122 - accuracy: 0.96 - ETA: 1:36 - loss: 0.1126 - accuracy: 0.96 - ETA: 1:34 - loss: 0.1126 - accuracy: 0.96 - ETA: 1:32 - loss: 0.1124 - accuracy: 0.95 - ETA: 1:30 - loss: 0.1119 - accuracy: 0.96 - ETA: 1:28 - loss: 0.1123 - accuracy: 0.96 - ETA: 1:26 - loss: 0.1120 - accuracy: 0.96 - ETA: 1:24 - loss: 0.1126 - accuracy: 0.96 - ETA: 1:22 - loss: 0.1135 - accuracy: 0.96 - ETA: 1:20 - loss: 0.1133 - accuracy: 0.96 - ETA: 1:18 - loss: 0.1126 - accuracy: 0.96 - ETA: 1:16 - loss: 0.1128 - accuracy: 0.96 - ETA: 1:14 - loss: 0.1125 - accuracy: 0.96 - ETA: 1:12 - loss: 0.1120 - accuracy: 0.96 - ETA: 1:10 - loss: 0.1121 - accuracy: 0.96 - ETA: 1:08 - loss: 0.1117 - accuracy: 0.96 - ETA: 1:06 - loss: 0.1118 - accuracy: 0.96 - ETA: 1:04 - loss: 0.1120 - accuracy: 0.96 - ETA: 1:02 - loss: 0.1118 - accuracy: 0.96 - ETA: 1:00 - loss: 0.1122 - accuracy: 0.96 - ETA: 58s - loss: 0.1121 - accuracy: 0.9609 - ETA: 56s - loss: 0.1121 - accuracy: 0.960 - ETA: 54s - loss: 0.1117 - accuracy: 0.961 - ETA: 52s - loss: 0.1124 - accuracy: 0.960 - ETA: 50s - loss: 0.1120 - accuracy: 0.961 - ETA: 48s - loss: 0.1120 - accuracy: 0.961 - ETA: 46s - loss: 0.1120 - accuracy: 0.961 - ETA: 44s - loss: 0.1115 - accuracy: 0.961 - ETA: 42s - loss: 0.1114 - accuracy: 0.961 - ETA: 40s - loss: 0.1110 - accuracy: 0.961 - ETA: 38s - loss: 0.1105 - accuracy: 0.961 - ETA: 36s - loss: 0.1099 - accuracy: 0.962 - ETA: 34s - loss: 0.1100 - accuracy: 0.961 - ETA: 32s - loss: 0.1102 - accuracy: 0.961 - ETA: 30s - loss: 0.1097 - accuracy: 0.962 - ETA: 28s - loss: 0.1095 - accuracy: 0.962 - ETA: 26s - loss: 0.1094 - accuracy: 0.962 - ETA: 24s - loss: 0.1095 - accuracy: 0.962 - ETA: 22s - loss: 0.1092 - accuracy: 0.962 - ETA: 20s - loss: 0.1088 - accuracy: 0.962 - ETA: 18s - loss: 0.1086 - accuracy: 0.962 - ETA: 16s - loss: 0.1080 - accuracy: 0.962 - ETA: 14s - loss: 0.1080 - accuracy: 0.962 - ETA: 12s - loss: 0.1077 - accuracy: 0.962 - ETA: 10s - loss: 0.1072 - accuracy: 0.962 - ETA: 8s - loss: 0.1077 - accuracy: 0.962 - ETA: 6s - loss: 0.1071 - accuracy: 0.96 - ETA: 4s - loss: 0.1067 - accuracy: 0.96 - ETA: 2s - loss: 0.1068 - accuracy: 0.96 - 340s 65ms/step - loss: 0.1066 - accuracy: 0.9632 - val_loss: 1.4002 - val_accuracy: 0.6250\n",
      "Epoch 3/5\n",
      "5216/5216 [==============================] - ETA: 5:49 - loss: 0.1247 - accuracy: 0.95 - ETA: 5:35 - loss: 0.0941 - accuracy: 0.96 - ETA: 5:24 - loss: 0.0760 - accuracy: 0.97 - ETA: 5:20 - loss: 0.0659 - accuracy: 0.98 - ETA: 5:16 - loss: 0.0629 - accuracy: 0.97 - ETA: 5:14 - loss: 0.0623 - accuracy: 0.97 - ETA: 5:14 - loss: 0.0608 - accuracy: 0.97 - ETA: 5:14 - loss: 0.0637 - accuracy: 0.97 - ETA: 5:14 - loss: 0.0600 - accuracy: 0.97 - ETA: 5:10 - loss: 0.0628 - accuracy: 0.97 - ETA: 5:07 - loss: 0.0621 - accuracy: 0.97 - ETA: 5:03 - loss: 0.0604 - accuracy: 0.97 - ETA: 5:00 - loss: 0.0600 - accuracy: 0.97 - ETA: 4:58 - loss: 0.0572 - accuracy: 0.98 - ETA: 4:55 - loss: 0.0567 - accuracy: 0.98 - ETA: 4:52 - loss: 0.0564 - accuracy: 0.98 - ETA: 4:51 - loss: 0.0546 - accuracy: 0.98 - ETA: 4:49 - loss: 0.0526 - accuracy: 0.98 - ETA: 4:47 - loss: 0.0521 - accuracy: 0.98 - ETA: 4:45 - loss: 0.0524 - accuracy: 0.98 - ETA: 4:42 - loss: 0.0611 - accuracy: 0.97 - ETA: 4:40 - loss: 0.0659 - accuracy: 0.97 - ETA: 4:38 - loss: 0.0649 - accuracy: 0.97 - ETA: 4:37 - loss: 0.0644 - accuracy: 0.97 - ETA: 4:35 - loss: 0.0665 - accuracy: 0.97 - ETA: 4:33 - loss: 0.0654 - accuracy: 0.97 - ETA: 4:30 - loss: 0.0656 - accuracy: 0.97 - ETA: 4:28 - loss: 0.0667 - accuracy: 0.97 - ETA: 4:26 - loss: 0.0660 - accuracy: 0.97 - ETA: 4:24 - loss: 0.0646 - accuracy: 0.97 - ETA: 4:21 - loss: 0.0643 - accuracy: 0.97 - ETA: 4:19 - loss: 0.0634 - accuracy: 0.97 - ETA: 4:18 - loss: 0.0636 - accuracy: 0.97 - ETA: 4:16 - loss: 0.0630 - accuracy: 0.97 - ETA: 4:14 - loss: 0.0638 - accuracy: 0.97 - ETA: 4:11 - loss: 0.0626 - accuracy: 0.97 - ETA: 4:09 - loss: 0.0635 - accuracy: 0.97 - ETA: 4:07 - loss: 0.0627 - accuracy: 0.97 - ETA: 4:05 - loss: 0.0615 - accuracy: 0.97 - ETA: 4:04 - loss: 0.0630 - accuracy: 0.97 - ETA: 4:02 - loss: 0.0640 - accuracy: 0.97 - ETA: 4:00 - loss: 0.0633 - accuracy: 0.97 - ETA: 3:58 - loss: 0.0641 - accuracy: 0.97 - ETA: 3:56 - loss: 0.0647 - accuracy: 0.97 - ETA: 3:54 - loss: 0.0650 - accuracy: 0.97 - ETA: 3:51 - loss: 0.0675 - accuracy: 0.97 - ETA: 3:49 - loss: 0.0686 - accuracy: 0.97 - ETA: 3:47 - loss: 0.0682 - accuracy: 0.97 - ETA: 3:46 - loss: 0.0685 - accuracy: 0.97 - ETA: 3:44 - loss: 0.0715 - accuracy: 0.97 - ETA: 3:42 - loss: 0.0725 - accuracy: 0.97 - ETA: 3:40 - loss: 0.0719 - accuracy: 0.97 - ETA: 3:38 - loss: 0.0714 - accuracy: 0.97 - ETA: 3:36 - loss: 0.0712 - accuracy: 0.97 - ETA: 3:34 - loss: 0.0702 - accuracy: 0.97 - ETA: 3:32 - loss: 0.0696 - accuracy: 0.97 - ETA: 3:30 - loss: 0.0710 - accuracy: 0.97 - ETA: 3:28 - loss: 0.0714 - accuracy: 0.97 - ETA: 3:26 - loss: 0.0707 - accuracy: 0.97 - ETA: 3:24 - loss: 0.0698 - accuracy: 0.97 - ETA: 3:22 - loss: 0.0695 - accuracy: 0.97 - ETA: 3:20 - loss: 0.0690 - accuracy: 0.97 - ETA: 3:18 - loss: 0.0689 - accuracy: 0.97 - ETA: 3:16 - loss: 0.0692 - accuracy: 0.97 - ETA: 3:14 - loss: 0.0688 - accuracy: 0.97 - ETA: 3:13 - loss: 0.0713 - accuracy: 0.97 - ETA: 3:11 - loss: 0.0712 - accuracy: 0.97 - ETA: 3:09 - loss: 0.0718 - accuracy: 0.97 - ETA: 3:07 - loss: 0.0726 - accuracy: 0.97 - ETA: 3:04 - loss: 0.0719 - accuracy: 0.97 - ETA: 3:03 - loss: 0.0716 - accuracy: 0.97 - ETA: 3:01 - loss: 0.0708 - accuracy: 0.97 - ETA: 2:59 - loss: 0.0706 - accuracy: 0.97 - ETA: 2:57 - loss: 0.0706 - accuracy: 0.97 - ETA: 2:55 - loss: 0.0703 - accuracy: 0.97 - ETA: 2:53 - loss: 0.0701 - accuracy: 0.97 - ETA: 2:51 - loss: 0.0706 - accuracy: 0.97 - ETA: 2:49 - loss: 0.0731 - accuracy: 0.97 - ETA: 2:47 - loss: 0.0733 - accuracy: 0.97 - ETA: 2:45 - loss: 0.0725 - accuracy: 0.97 - ETA: 2:43 - loss: 0.0729 - accuracy: 0.97 - ETA: 2:41 - loss: 0.0755 - accuracy: 0.97 - ETA: 2:39 - loss: 0.0762 - accuracy: 0.97 - ETA: 2:37 - loss: 0.0762 - accuracy: 0.97 - ETA: 2:35 - loss: 0.0757 - accuracy: 0.97 - ETA: 2:34 - loss: 0.0753 - accuracy: 0.97 - ETA: 2:33 - loss: 0.0749 - accuracy: 0.97 - ETA: 2:31 - loss: 0.0757 - accuracy: 0.97 - ETA: 2:29 - loss: 0.0751 - accuracy: 0.97 - ETA: 2:27 - loss: 0.0750 - accuracy: 0.97 - ETA: 2:25 - loss: 0.0752 - accuracy: 0.97 - ETA: 2:23 - loss: 0.0767 - accuracy: 0.97 - ETA: 2:21 - loss: 0.0762 - accuracy: 0.97 - ETA: 2:19 - loss: 0.0757 - accuracy: 0.97 - ETA: 2:18 - loss: 0.0762 - accuracy: 0.97 - ETA: 2:16 - loss: 0.0763 - accuracy: 0.97 - ETA: 2:14 - loss: 0.0761 - accuracy: 0.97 - ETA: 2:12 - loss: 0.0768 - accuracy: 0.97 - ETA: 2:10 - loss: 0.0769 - accuracy: 0.97 - ETA: 2:08 - loss: 0.0767 - accuracy: 0.97 - ETA: 2:06 - loss: 0.0766 - accuracy: 0.97 - ETA: 2:04 - loss: 0.0759 - accuracy: 0.97 - ETA: 2:02 - loss: 0.0763 - accuracy: 0.97 - ETA: 2:00 - loss: 0.0762 - accuracy: 0.97 - ETA: 1:58 - loss: 0.0756 - accuracy: 0.97 - ETA: 1:56 - loss: 0.0750 - accuracy: 0.97 - ETA: 1:54 - loss: 0.0753 - accuracy: 0.97 - ETA: 1:52 - loss: 0.0754 - accuracy: 0.97 - ETA: 1:50 - loss: 0.0755 - accuracy: 0.97 - ETA: 1:48 - loss: 0.0754 - accuracy: 0.97 - ETA: 1:46 - loss: 0.0748 - accuracy: 0.97 - ETA: 1:44 - loss: 0.0746 - accuracy: 0.97 - ETA: 1:42 - loss: 0.0746 - accuracy: 0.97 - ETA: 1:40 - loss: 0.0746 - accuracy: 0.97 - ETA: 1:38 - loss: 0.0747 - accuracy: 0.97 - ETA: 1:36 - loss: 0.0753 - accuracy: 0.97 - ETA: 1:33 - loss: 0.0756 - accuracy: 0.97 - ETA: 1:31 - loss: 0.0755 - accuracy: 0.97 - ETA: 1:29 - loss: 0.0754 - accuracy: 0.97 - ETA: 1:27 - loss: 0.0750 - accuracy: 0.97 - ETA: 1:25 - loss: 0.0746 - accuracy: 0.97 - ETA: 1:23 - loss: 0.0742 - accuracy: 0.97 - ETA: 1:21 - loss: 0.0741 - accuracy: 0.97 - ETA: 1:19 - loss: 0.0745 - accuracy: 0.97 - ETA: 1:17 - loss: 0.0740 - accuracy: 0.97 - ETA: 1:15 - loss: 0.0740 - accuracy: 0.97 - ETA: 1:13 - loss: 0.0742 - accuracy: 0.97 - ETA: 1:11 - loss: 0.0743 - accuracy: 0.97 - ETA: 1:09 - loss: 0.0739 - accuracy: 0.97 - ETA: 1:07 - loss: 0.0745 - accuracy: 0.97 - ETA: 1:05 - loss: 0.0742 - accuracy: 0.97 - ETA: 1:03 - loss: 0.0739 - accuracy: 0.97 - ETA: 1:01 - loss: 0.0738 - accuracy: 0.97 - ETA: 59s - loss: 0.0739 - accuracy: 0.9748 - ETA: 57s - loss: 0.0735 - accuracy: 0.975 - ETA: 54s - loss: 0.0733 - accuracy: 0.975 - ETA: 52s - loss: 0.0728 - accuracy: 0.975 - ETA: 50s - loss: 0.0728 - accuracy: 0.975 - ETA: 48s - loss: 0.0726 - accuracy: 0.975 - ETA: 46s - loss: 0.0722 - accuracy: 0.975 - ETA: 44s - loss: 0.0735 - accuracy: 0.975 - ETA: 42s - loss: 0.0731 - accuracy: 0.975 - ETA: 40s - loss: 0.0731 - accuracy: 0.975 - ETA: 38s - loss: 0.0728 - accuracy: 0.975 - ETA: 36s - loss: 0.0726 - accuracy: 0.975 - ETA: 34s - loss: 0.0730 - accuracy: 0.975 - ETA: 32s - loss: 0.0726 - accuracy: 0.975 - ETA: 30s - loss: 0.0725 - accuracy: 0.975 - ETA: 28s - loss: 0.0726 - accuracy: 0.975 - ETA: 26s - loss: 0.0723 - accuracy: 0.975 - ETA: 24s - loss: 0.0720 - accuracy: 0.975 - ETA: 22s - loss: 0.0722 - accuracy: 0.975 - ETA: 20s - loss: 0.0718 - accuracy: 0.975 - ETA: 18s - loss: 0.0715 - accuracy: 0.975 - ETA: 16s - loss: 0.0716 - accuracy: 0.975 - ETA: 14s - loss: 0.0715 - accuracy: 0.975 - ETA: 12s - loss: 0.0717 - accuracy: 0.975 - ETA: 10s - loss: 0.0714 - accuracy: 0.975 - ETA: 8s - loss: 0.0711 - accuracy: 0.976 - ETA: 6s - loss: 0.0710 - accuracy: 0.97 - ETA: 4s - loss: 0.0707 - accuracy: 0.97 - ETA: 2s - loss: 0.0704 - accuracy: 0.97 - 343s 66ms/step - loss: 0.0701 - accuracy: 0.9765 - val_loss: 1.1140 - val_accuracy: 0.6683\n",
      "Epoch 4/5\n"
     ]
    },
    {
     "name": "stdout",
     "output_type": "stream",
     "text": [
      "5216/5216 [==============================] - ETA: 5:15 - loss: 0.0286 - accuracy: 1.00 - ETA: 5:12 - loss: 0.0406 - accuracy: 0.98 - ETA: 5:13 - loss: 0.0564 - accuracy: 0.97 - ETA: 5:10 - loss: 0.0614 - accuracy: 0.97 - ETA: 5:10 - loss: 0.0684 - accuracy: 0.97 - ETA: 5:11 - loss: 0.0636 - accuracy: 0.97 - ETA: 5:09 - loss: 0.0607 - accuracy: 0.97 - ETA: 5:07 - loss: 0.0603 - accuracy: 0.97 - ETA: 5:08 - loss: 0.0548 - accuracy: 0.97 - ETA: 5:06 - loss: 0.0532 - accuracy: 0.97 - ETA: 5:04 - loss: 0.0525 - accuracy: 0.97 - ETA: 5:03 - loss: 0.0532 - accuracy: 0.97 - ETA: 5:02 - loss: 0.0519 - accuracy: 0.97 - ETA: 5:01 - loss: 0.0510 - accuracy: 0.98 - ETA: 4:59 - loss: 0.0529 - accuracy: 0.98 - ETA: 4:56 - loss: 0.0511 - accuracy: 0.98 - ETA: 4:55 - loss: 0.0489 - accuracy: 0.98 - ETA: 4:53 - loss: 0.0464 - accuracy: 0.98 - ETA: 4:51 - loss: 0.0459 - accuracy: 0.98 - ETA: 4:49 - loss: 0.0481 - accuracy: 0.98 - ETA: 4:47 - loss: 0.0492 - accuracy: 0.98 - ETA: 4:46 - loss: 0.0479 - accuracy: 0.98 - ETA: 4:43 - loss: 0.0472 - accuracy: 0.98 - ETA: 4:41 - loss: 0.0466 - accuracy: 0.98 - ETA: 4:39 - loss: 0.0457 - accuracy: 0.98 - ETA: 4:37 - loss: 0.0468 - accuracy: 0.98 - ETA: 4:34 - loss: 0.0466 - accuracy: 0.98 - ETA: 4:32 - loss: 0.0480 - accuracy: 0.98 - ETA: 4:31 - loss: 0.0467 - accuracy: 0.98 - ETA: 4:29 - loss: 0.0462 - accuracy: 0.98 - ETA: 4:27 - loss: 0.0468 - accuracy: 0.98 - ETA: 4:25 - loss: 0.0462 - accuracy: 0.98 - ETA: 4:23 - loss: 0.0458 - accuracy: 0.98 - ETA: 4:20 - loss: 0.0501 - accuracy: 0.98 - ETA: 4:18 - loss: 0.0496 - accuracy: 0.98 - ETA: 4:16 - loss: 0.0488 - accuracy: 0.98 - ETA: 4:14 - loss: 0.0504 - accuracy: 0.98 - ETA: 4:12 - loss: 0.0494 - accuracy: 0.98 - ETA: 4:10 - loss: 0.0486 - accuracy: 0.98 - ETA: 4:08 - loss: 0.0477 - accuracy: 0.98 - ETA: 4:06 - loss: 0.0483 - accuracy: 0.98 - ETA: 4:04 - loss: 0.0476 - accuracy: 0.98 - ETA: 4:02 - loss: 0.0468 - accuracy: 0.98 - ETA: 3:59 - loss: 0.0470 - accuracy: 0.98 - ETA: 3:58 - loss: 0.0481 - accuracy: 0.98 - ETA: 3:56 - loss: 0.0482 - accuracy: 0.98 - ETA: 3:54 - loss: 0.0478 - accuracy: 0.98 - ETA: 3:52 - loss: 0.0476 - accuracy: 0.98 - ETA: 3:50 - loss: 0.0477 - accuracy: 0.98 - ETA: 3:48 - loss: 0.0481 - accuracy: 0.98 - ETA: 3:46 - loss: 0.0473 - accuracy: 0.98 - ETA: 3:44 - loss: 0.0465 - accuracy: 0.98 - ETA: 3:42 - loss: 0.0462 - accuracy: 0.98 - ETA: 3:41 - loss: 0.0457 - accuracy: 0.98 - ETA: 3:38 - loss: 0.0452 - accuracy: 0.98 - ETA: 3:36 - loss: 0.0444 - accuracy: 0.98 - ETA: 3:35 - loss: 0.0447 - accuracy: 0.98 - ETA: 3:33 - loss: 0.0442 - accuracy: 0.98 - ETA: 3:30 - loss: 0.0481 - accuracy: 0.98 - ETA: 3:28 - loss: 0.0486 - accuracy: 0.98 - ETA: 3:27 - loss: 0.0482 - accuracy: 0.98 - ETA: 3:24 - loss: 0.0478 - accuracy: 0.98 - ETA: 3:22 - loss: 0.0474 - accuracy: 0.98 - ETA: 3:20 - loss: 0.0484 - accuracy: 0.98 - ETA: 3:18 - loss: 0.0486 - accuracy: 0.98 - ETA: 3:16 - loss: 0.0480 - accuracy: 0.98 - ETA: 3:14 - loss: 0.0475 - accuracy: 0.98 - ETA: 3:12 - loss: 0.0483 - accuracy: 0.98 - ETA: 3:10 - loss: 0.0480 - accuracy: 0.98 - ETA: 3:08 - loss: 0.0478 - accuracy: 0.98 - ETA: 3:06 - loss: 0.0475 - accuracy: 0.98 - ETA: 3:04 - loss: 0.0477 - accuracy: 0.98 - ETA: 3:02 - loss: 0.0474 - accuracy: 0.98 - ETA: 3:00 - loss: 0.0475 - accuracy: 0.98 - ETA: 2:57 - loss: 0.0471 - accuracy: 0.98 - ETA: 2:55 - loss: 0.0467 - accuracy: 0.98 - ETA: 2:54 - loss: 0.0476 - accuracy: 0.98 - ETA: 2:52 - loss: 0.0494 - accuracy: 0.98 - ETA: 2:49 - loss: 0.0502 - accuracy: 0.98 - ETA: 2:47 - loss: 0.0498 - accuracy: 0.98 - ETA: 2:45 - loss: 0.0496 - accuracy: 0.98 - ETA: 2:43 - loss: 0.0498 - accuracy: 0.98 - ETA: 2:41 - loss: 0.0493 - accuracy: 0.98 - ETA: 2:39 - loss: 0.0493 - accuracy: 0.98 - ETA: 2:37 - loss: 0.0492 - accuracy: 0.98 - ETA: 2:35 - loss: 0.0494 - accuracy: 0.98 - ETA: 2:33 - loss: 0.0489 - accuracy: 0.98 - ETA: 2:31 - loss: 0.0486 - accuracy: 0.98 - ETA: 2:29 - loss: 0.0483 - accuracy: 0.98 - ETA: 2:27 - loss: 0.0478 - accuracy: 0.98 - ETA: 2:25 - loss: 0.0476 - accuracy: 0.98 - ETA: 2:23 - loss: 0.0471 - accuracy: 0.98 - ETA: 2:21 - loss: 0.0468 - accuracy: 0.98 - ETA: 2:19 - loss: 0.0466 - accuracy: 0.98 - ETA: 2:17 - loss: 0.0462 - accuracy: 0.98 - ETA: 2:15 - loss: 0.0459 - accuracy: 0.98 - ETA: 2:13 - loss: 0.0457 - accuracy: 0.98 - ETA: 2:11 - loss: 0.0455 - accuracy: 0.98 - ETA: 2:09 - loss: 0.0451 - accuracy: 0.98 - ETA: 2:07 - loss: 0.0450 - accuracy: 0.98 - ETA: 2:05 - loss: 0.0449 - accuracy: 0.98 - ETA: 2:03 - loss: 0.0450 - accuracy: 0.98 - ETA: 2:01 - loss: 0.0456 - accuracy: 0.98 - ETA: 1:59 - loss: 0.0464 - accuracy: 0.98 - ETA: 1:57 - loss: 0.0462 - accuracy: 0.98 - ETA: 1:55 - loss: 0.0460 - accuracy: 0.98 - ETA: 1:52 - loss: 0.0459 - accuracy: 0.98 - ETA: 1:50 - loss: 0.0457 - accuracy: 0.98 - ETA: 1:48 - loss: 0.0454 - accuracy: 0.98 - ETA: 1:46 - loss: 0.0457 - accuracy: 0.98 - ETA: 1:44 - loss: 0.0455 - accuracy: 0.98 - ETA: 1:42 - loss: 0.0452 - accuracy: 0.98 - ETA: 1:40 - loss: 0.0450 - accuracy: 0.98 - ETA: 1:38 - loss: 0.0451 - accuracy: 0.98 - ETA: 1:36 - loss: 0.0447 - accuracy: 0.98 - ETA: 1:34 - loss: 0.0445 - accuracy: 0.98 - ETA: 1:32 - loss: 0.0441 - accuracy: 0.98 - ETA: 1:30 - loss: 0.0439 - accuracy: 0.98 - ETA: 1:28 - loss: 0.0445 - accuracy: 0.98 - ETA: 1:26 - loss: 0.0443 - accuracy: 0.98 - ETA: 1:24 - loss: 0.0443 - accuracy: 0.98 - ETA: 1:22 - loss: 0.0457 - accuracy: 0.98 - ETA: 1:20 - loss: 0.0455 - accuracy: 0.98 - ETA: 1:18 - loss: 0.0453 - accuracy: 0.98 - ETA: 1:16 - loss: 0.0452 - accuracy: 0.98 - ETA: 1:14 - loss: 0.0448 - accuracy: 0.98 - ETA: 1:12 - loss: 0.0449 - accuracy: 0.98 - ETA: 1:10 - loss: 0.0448 - accuracy: 0.98 - ETA: 1:08 - loss: 0.0450 - accuracy: 0.98 - ETA: 1:06 - loss: 0.0449 - accuracy: 0.98 - ETA: 1:04 - loss: 0.0452 - accuracy: 0.98 - ETA: 1:02 - loss: 0.0450 - accuracy: 0.98 - ETA: 1:00 - loss: 0.0459 - accuracy: 0.98 - ETA: 58s - loss: 0.0456 - accuracy: 0.9861 - ETA: 56s - loss: 0.0454 - accuracy: 0.986 - ETA: 54s - loss: 0.0453 - accuracy: 0.986 - ETA: 52s - loss: 0.0455 - accuracy: 0.986 - ETA: 50s - loss: 0.0461 - accuracy: 0.985 - ETA: 48s - loss: 0.0462 - accuracy: 0.985 - ETA: 46s - loss: 0.0460 - accuracy: 0.985 - ETA: 44s - loss: 0.0459 - accuracy: 0.985 - ETA: 42s - loss: 0.0458 - accuracy: 0.986 - ETA: 40s - loss: 0.0460 - accuracy: 0.985 - ETA: 38s - loss: 0.0458 - accuracy: 0.986 - ETA: 36s - loss: 0.0458 - accuracy: 0.986 - ETA: 34s - loss: 0.0456 - accuracy: 0.986 - ETA: 32s - loss: 0.0456 - accuracy: 0.986 - ETA: 30s - loss: 0.0453 - accuracy: 0.986 - ETA: 28s - loss: 0.0458 - accuracy: 0.985 - ETA: 26s - loss: 0.0457 - accuracy: 0.986 - ETA: 24s - loss: 0.0456 - accuracy: 0.986 - ETA: 22s - loss: 0.0455 - accuracy: 0.986 - ETA: 20s - loss: 0.0459 - accuracy: 0.986 - ETA: 18s - loss: 0.0456 - accuracy: 0.986 - ETA: 16s - loss: 0.0454 - accuracy: 0.986 - ETA: 14s - loss: 0.0454 - accuracy: 0.986 - ETA: 12s - loss: 0.0452 - accuracy: 0.986 - ETA: 10s - loss: 0.0451 - accuracy: 0.986 - ETA: 8s - loss: 0.0448 - accuracy: 0.986 - ETA: 6s - loss: 0.0447 - accuracy: 0.98 - ETA: 4s - loss: 0.0451 - accuracy: 0.98 - ETA: 2s - loss: 0.0449 - accuracy: 0.98 - 340s 65ms/step - loss: 0.0456 - accuracy: 0.9861 - val_loss: 1.0675 - val_accuracy: 0.7131\n",
      "Epoch 5/5\n",
      "5216/5216 [==============================] - ETA: 5:25 - loss: 0.0516 - accuracy: 0.98 - ETA: 5:19 - loss: 0.0275 - accuracy: 0.99 - ETA: 5:19 - loss: 0.0237 - accuracy: 0.99 - ETA: 5:22 - loss: 0.0209 - accuracy: 0.99 - ETA: 5:18 - loss: 0.0175 - accuracy: 0.99 - ETA: 5:14 - loss: 0.0206 - accuracy: 0.99 - ETA: 5:12 - loss: 0.0204 - accuracy: 0.99 - ETA: 5:10 - loss: 0.0336 - accuracy: 0.98 - ETA: 5:07 - loss: 0.0347 - accuracy: 0.98 - ETA: 5:06 - loss: 0.0318 - accuracy: 0.98 - ETA: 5:04 - loss: 0.0307 - accuracy: 0.98 - ETA: 5:03 - loss: 0.0378 - accuracy: 0.98 - ETA: 5:00 - loss: 0.0369 - accuracy: 0.98 - ETA: 4:58 - loss: 0.0359 - accuracy: 0.98 - ETA: 4:56 - loss: 0.0355 - accuracy: 0.98 - ETA: 4:53 - loss: 0.0336 - accuracy: 0.99 - ETA: 4:51 - loss: 0.0326 - accuracy: 0.99 - ETA: 4:49 - loss: 0.0324 - accuracy: 0.99 - ETA: 4:47 - loss: 0.0334 - accuracy: 0.98 - ETA: 4:46 - loss: 0.0324 - accuracy: 0.98 - ETA: 4:44 - loss: 0.0330 - accuracy: 0.98 - ETA: 4:41 - loss: 0.0319 - accuracy: 0.99 - ETA: 4:39 - loss: 0.0308 - accuracy: 0.99 - ETA: 4:37 - loss: 0.0312 - accuracy: 0.99 - ETA: 4:35 - loss: 0.0333 - accuracy: 0.99 - ETA: 4:33 - loss: 0.0324 - accuracy: 0.99 - ETA: 4:31 - loss: 0.0313 - accuracy: 0.99 - ETA: 4:29 - loss: 0.0309 - accuracy: 0.99 - ETA: 4:27 - loss: 0.0301 - accuracy: 0.99 - ETA: 4:25 - loss: 0.0298 - accuracy: 0.99 - ETA: 4:23 - loss: 0.0294 - accuracy: 0.99 - ETA: 4:21 - loss: 0.0293 - accuracy: 0.99 - ETA: 4:19 - loss: 0.0316 - accuracy: 0.99 - ETA: 4:17 - loss: 0.0310 - accuracy: 0.99 - ETA: 4:15 - loss: 0.0305 - accuracy: 0.99 - ETA: 4:14 - loss: 0.0301 - accuracy: 0.99 - ETA: 4:12 - loss: 0.0300 - accuracy: 0.99 - ETA: 4:10 - loss: 0.0301 - accuracy: 0.99 - ETA: 4:08 - loss: 0.0302 - accuracy: 0.99 - ETA: 4:06 - loss: 0.0299 - accuracy: 0.99 - ETA: 4:04 - loss: 0.0297 - accuracy: 0.99 - ETA: 4:02 - loss: 0.0290 - accuracy: 0.99 - ETA: 4:00 - loss: 0.0285 - accuracy: 0.99 - ETA: 3:59 - loss: 0.0282 - accuracy: 0.99 - ETA: 3:56 - loss: 0.0277 - accuracy: 0.99 - ETA: 3:55 - loss: 0.0280 - accuracy: 0.99 - ETA: 3:52 - loss: 0.0281 - accuracy: 0.99 - ETA: 3:50 - loss: 0.0281 - accuracy: 0.99 - ETA: 3:48 - loss: 0.0280 - accuracy: 0.99 - ETA: 3:46 - loss: 0.0280 - accuracy: 0.99 - ETA: 3:44 - loss: 0.0280 - accuracy: 0.99 - ETA: 3:42 - loss: 0.0285 - accuracy: 0.99 - ETA: 3:40 - loss: 0.0285 - accuracy: 0.99 - ETA: 3:38 - loss: 0.0281 - accuracy: 0.99 - ETA: 3:36 - loss: 0.0277 - accuracy: 0.99 - ETA: 3:34 - loss: 0.0277 - accuracy: 0.99 - ETA: 3:32 - loss: 0.0277 - accuracy: 0.99 - ETA: 3:30 - loss: 0.0274 - accuracy: 0.99 - ETA: 3:28 - loss: 0.0272 - accuracy: 0.99 - ETA: 3:26 - loss: 0.0274 - accuracy: 0.99 - ETA: 3:24 - loss: 0.0271 - accuracy: 0.99 - ETA: 3:22 - loss: 0.0268 - accuracy: 0.99 - ETA: 3:20 - loss: 0.0267 - accuracy: 0.99 - ETA: 3:18 - loss: 0.0265 - accuracy: 0.99 - ETA: 3:16 - loss: 0.0262 - accuracy: 0.99 - ETA: 3:14 - loss: 0.0270 - accuracy: 0.99 - ETA: 3:12 - loss: 0.0269 - accuracy: 0.99 - ETA: 3:10 - loss: 0.0272 - accuracy: 0.99 - ETA: 3:08 - loss: 0.0271 - accuracy: 0.99 - ETA: 3:06 - loss: 0.0273 - accuracy: 0.99 - ETA: 3:04 - loss: 0.0275 - accuracy: 0.99 - ETA: 3:02 - loss: 0.0273 - accuracy: 0.99 - ETA: 3:00 - loss: 0.0270 - accuracy: 0.99 - ETA: 2:58 - loss: 0.0273 - accuracy: 0.99 - ETA: 2:56 - loss: 0.0271 - accuracy: 0.99 - ETA: 2:54 - loss: 0.0273 - accuracy: 0.99 - ETA: 2:52 - loss: 0.0276 - accuracy: 0.99 - ETA: 2:50 - loss: 0.0275 - accuracy: 0.99 - ETA: 2:48 - loss: 0.0272 - accuracy: 0.99 - ETA: 2:46 - loss: 0.0274 - accuracy: 0.99 - ETA: 2:44 - loss: 0.0276 - accuracy: 0.99 - ETA: 2:41 - loss: 0.0279 - accuracy: 0.99 - ETA: 2:40 - loss: 0.0277 - accuracy: 0.99 - ETA: 2:38 - loss: 0.0278 - accuracy: 0.99 - ETA: 2:36 - loss: 0.0276 - accuracy: 0.99 - ETA: 2:33 - loss: 0.0276 - accuracy: 0.99 - ETA: 2:31 - loss: 0.0274 - accuracy: 0.99 - ETA: 2:29 - loss: 0.0272 - accuracy: 0.99 - ETA: 2:27 - loss: 0.0270 - accuracy: 0.99 - ETA: 2:25 - loss: 0.0276 - accuracy: 0.99 - ETA: 2:23 - loss: 0.0274 - accuracy: 0.99 - ETA: 2:22 - loss: 0.0272 - accuracy: 0.99 - ETA: 2:20 - loss: 0.0287 - accuracy: 0.99 - ETA: 2:18 - loss: 0.0286 - accuracy: 0.99 - ETA: 2:16 - loss: 0.0284 - accuracy: 0.99 - ETA: 2:14 - loss: 0.0283 - accuracy: 0.99 - ETA: 2:12 - loss: 0.0282 - accuracy: 0.99 - ETA: 2:10 - loss: 0.0285 - accuracy: 0.99 - ETA: 2:08 - loss: 0.0290 - accuracy: 0.99 - ETA: 2:06 - loss: 0.0288 - accuracy: 0.99 - ETA: 2:04 - loss: 0.0286 - accuracy: 0.99 - ETA: 2:02 - loss: 0.0284 - accuracy: 0.99 - ETA: 2:00 - loss: 0.0282 - accuracy: 0.99 - ETA: 1:58 - loss: 0.0280 - accuracy: 0.99 - ETA: 1:56 - loss: 0.0287 - accuracy: 0.99 - ETA: 1:53 - loss: 0.0285 - accuracy: 0.99 - ETA: 1:51 - loss: 0.0286 - accuracy: 0.99 - ETA: 1:50 - loss: 0.0285 - accuracy: 0.99 - ETA: 1:48 - loss: 0.0287 - accuracy: 0.99 - ETA: 1:45 - loss: 0.0287 - accuracy: 0.99 - ETA: 1:43 - loss: 0.0287 - accuracy: 0.99 - ETA: 1:41 - loss: 0.0288 - accuracy: 0.99 - ETA: 1:39 - loss: 0.0289 - accuracy: 0.99 - ETA: 1:37 - loss: 0.0287 - accuracy: 0.99 - ETA: 1:35 - loss: 0.0289 - accuracy: 0.99 - ETA: 1:33 - loss: 0.0287 - accuracy: 0.99 - ETA: 1:31 - loss: 0.0286 - accuracy: 0.99 - ETA: 1:29 - loss: 0.0284 - accuracy: 0.99 - ETA: 1:27 - loss: 0.0289 - accuracy: 0.99 - ETA: 1:25 - loss: 0.0306 - accuracy: 0.99 - ETA: 1:23 - loss: 0.0304 - accuracy: 0.99 - ETA: 1:21 - loss: 0.0303 - accuracy: 0.99 - ETA: 1:19 - loss: 0.0303 - accuracy: 0.99 - ETA: 1:17 - loss: 0.0305 - accuracy: 0.99 - ETA: 1:15 - loss: 0.0304 - accuracy: 0.99 - ETA: 1:13 - loss: 0.0308 - accuracy: 0.99 - ETA: 1:11 - loss: 0.0307 - accuracy: 0.99 - ETA: 1:09 - loss: 0.0306 - accuracy: 0.99 - ETA: 1:07 - loss: 0.0304 - accuracy: 0.99 - ETA: 1:05 - loss: 0.0304 - accuracy: 0.99 - ETA: 1:03 - loss: 0.0302 - accuracy: 0.99 - ETA: 1:01 - loss: 0.0312 - accuracy: 0.99 - ETA: 59s - loss: 0.0311 - accuracy: 0.9902 - ETA: 57s - loss: 0.0310 - accuracy: 0.990 - ETA: 55s - loss: 0.0308 - accuracy: 0.990 - ETA: 53s - loss: 0.0308 - accuracy: 0.990 - ETA: 51s - loss: 0.0308 - accuracy: 0.990 - ETA: 49s - loss: 0.0307 - accuracy: 0.990 - ETA: 47s - loss: 0.0305 - accuracy: 0.990 - ETA: 45s - loss: 0.0304 - accuracy: 0.990 - ETA: 43s - loss: 0.0305 - accuracy: 0.990 - ETA: 41s - loss: 0.0303 - accuracy: 0.990 - ETA: 39s - loss: 0.0304 - accuracy: 0.990 - ETA: 37s - loss: 0.0310 - accuracy: 0.990 - ETA: 35s - loss: 0.0308 - accuracy: 0.990 - ETA: 33s - loss: 0.0306 - accuracy: 0.990 - ETA: 31s - loss: 0.0306 - accuracy: 0.990 - ETA: 29s - loss: 0.0305 - accuracy: 0.990 - ETA: 27s - loss: 0.0306 - accuracy: 0.990 - ETA: 25s - loss: 0.0305 - accuracy: 0.990 - ETA: 23s - loss: 0.0306 - accuracy: 0.990 - ETA: 21s - loss: 0.0306 - accuracy: 0.990 - ETA: 19s - loss: 0.0307 - accuracy: 0.989 - ETA: 17s - loss: 0.0306 - accuracy: 0.990 - ETA: 15s - loss: 0.0305 - accuracy: 0.990 - ETA: 13s - loss: 0.0304 - accuracy: 0.990 - ETA: 11s - loss: 0.0302 - accuracy: 0.990 - ETA: 9s - loss: 0.0303 - accuracy: 0.990 - ETA: 7s - loss: 0.0305 - accuracy: 0.99 - ETA: 6s - loss: 0.0304 - accuracy: 0.99 - ETA: 4s - loss: 0.0305 - accuracy: 0.99 - ETA: 2s - loss: 0.0308 - accuracy: 0.99 - 339s 65ms/step - loss: 0.0307 - accuracy: 0.9900 - val_loss: 2.2928 - val_accuracy: 0.6450\n"
     ]
    }
   ],
   "source": [
    "history = model.fit(X_train, y_train, validation_data = (X_test , y_test) ,callbacks=[lr_reduce,checkpoint] ,epochs=epochs)"
   ]
  },
  {
   "cell_type": "code",
   "execution_count": 26,
   "metadata": {},
   "outputs": [
    {
     "data": {
      "image/png": "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\n",
      "text/plain": [
       "<Figure size 432x288 with 1 Axes>"
      ]
     },
     "metadata": {
      "needs_background": "light"
     },
     "output_type": "display_data"
    },
    {
     "data": {
      "image/png": "iVBORw0KGgoAAAANSUhEUgAAAYIAAAEWCAYAAABrDZDcAAAABHNCSVQICAgIfAhkiAAAAAlwSFlzAAALEgAACxIB0t1+/AAAADh0RVh0U29mdHdhcmUAbWF0cGxvdGxpYiB2ZXJzaW9uMy4xLjAsIGh0dHA6Ly9tYXRwbG90bGliLm9yZy+17YcXAAAgAElEQVR4nO3deXxU5dn/8c+VnYSwR0FAwR0XRMV9KXUHVKy2LlVb2/q41aW/VuvSauvTzT5Pa92q1q2tdWmtyqKCIioudQWkKuACFB4CKhB2CCSZXL8/ziGZhAkkMDMnmfN9v17zysw5Z2auOZD55r7Pfe5j7o6IiMRXXtQFiIhItBQEIiIxpyAQEYk5BYGISMwpCEREYk5BICIScwoCkVYys7+Y2S9bue08MztuW19HJBsUBCIiMacgEBGJOQWB5JSwS+YaM/vAzNaa2YNmtr2ZTTCz1WY2ycy6J21/qpnNMLMVZjbZzAYlrdvfzKaFz/sHUNLsvU42s+nhc980s8FbWfN/mdlsM1tmZuPMbIdwuZnZH8xssZmtDD/TPuG6EWY2M6xtoZldvVU7TAQFgeSmM4Djgd2BU4AJwA1AL4L/81cCmNnuwOPAD4AKYDzwjJkVmVkRMAb4G9AD+Gf4uoTPPQB4CLgY6An8CRhnZsVtKdTMjgF+A5wJ9AHmA38PV58AHB1+jm7AWUBVuO5B4GJ3Lwf2AV5uy/uKJFMQSC66092/dPeFwOvAO+7+vrtvAEYD+4fbnQU85+4vunst8DugE3A4cChQCNzm7rXu/iTwXtJ7/BfwJ3d/x90T7v5XYEP4vLY4F3jI3aeF9V0PHGZmA4BaoBzYEzB3n+Xun4fPqwX2MrMu7r7c3ae18X1FGigIJBd9mXS/OsXjzuH9HQj+AgfA3euBBUDfcN1Cbzor4/yk+zsBPwq7hVaY2Qqgf/i8tmhewxqCv/r7uvvLwF3AH4Evzew+M+sSbnoGMAKYb2avmtlhbXxfkQYKAomzRQRf6EDQJ0/wZb4Q+BzoGy7baMek+wuAX7l7t6Rbqbs/vo01lBF0NS0EcPc73P1AYG+CLqJrwuXvufsoYDuCLqwn2vi+Ig0UBBJnTwAjzexYMysEfkTQvfMm8BZQB1xpZgVmdjpwcNJz7wcuMbNDwoO6ZWY20szK21jDY8B3zGxIeHzh1wRdWfPM7KDw9QuBtcB6IBEewzjXzLqGXVqrgMQ27AeJOQWBxJa7fwKcB9wJLCU4sHyKu9e4ew1wOnABsJzgeMLTSc+dQnCc4K5w/exw27bW8BJwI/AUQStkF+DscHUXgsBZTtB9VEVwHAPgfGCema0CLgk/h8hWMV2YRkQk3tQiEBGJOQWBiEjMKQhERGJOQSAiEnMFURfQVr169fIBAwZEXYaISIcyderUpe5ekWpdhwuCAQMGMGXKlKjLEBHpUMxsfkvr1DUkIhJzCgIRkZhTEIiIxFyHO0aQSm1tLZWVlaxfvz7qUjKupKSEfv36UVhYGHUpIpIjciIIKisrKS8vZ8CAATSdLDK3uDtVVVVUVlYycODAqMsRkRyRE11D69evp2fPnjkdAgBmRs+ePWPR8hGR7MmJIAByPgQ2isvnFJHsyZkgEBHJaZN/C4umZ+SlFQRpsGLFCu6+++42P2/EiBGsWLEiAxWJSE6ZORYm/xpmPZORl1cQpEFLQZBIbP6iUePHj6dbt26ZKktEcsHKhTDuSthhfxh2XUbeIidGDUXtuuuuY86cOQwZMoTCwkI6d+5Mnz59mD59OjNnzuS0005jwYIFrF+/nquuuoqLLroIaJwuY82aNQwfPpwjjzySN998k759+zJ27Fg6deoU8ScTkUjV18OYSyBRA2c8CPmZGTaec0Fw8zMzmLloVVpfc68duvCzU/Zucf0tt9zCRx99xPTp05k8eTIjR47ko48+ahji+dBDD9GjRw+qq6s56KCDOOOMM+jZs2eT1/jss894/PHHuf/++znzzDN56qmnOO88XX1QJNbeugv+8xqceif03CVjb5NzQdAeHHzwwU3G+d9xxx2MHj0agAULFvDZZ59tEgQDBw5kyJAhABx44IHMmzcva/WKSDv0+b/hpf+GQafA/udn9K1yLgg295d7tpSVlTXcnzx5MpMmTeKtt96itLSUYcOGpTwPoLi4uOF+fn4+1dXVWalVRNqhmnXw1IVQ1gtOuQMyPGw854IgCuXl5axevTrlupUrV9K9e3dKS0v5+OOPefvtt7NcnYh0OBN/Cks/hW+NhdIeGX87BUEa9OzZkyOOOIJ99tmHTp06sf322zesO+mkk7j33nsZPHgwe+yxB4ceemiElYpIu/fJBJjyIBx+Bew8LCtvae6elTdKl6FDh3rzC9PMmjWLQYMGRVRR9sXt84rExuov4Z7DoMsOcOFLUFC85ee0kplNdfehqdbpPAIRkfbAHcZeBjVrg6GiaQyBLVHXkIhIe/DufTB7Eoz8PVTskdW3VotARCRqX86EiTfC7ifB0O9l/e0VBCIiUapdHwwVLekKp96V8aGiqahrSEQkSi/dDItnwLlPQueKSEpQi0BEJCqzJ8Hbd8PBF8Nux0dWhoIgDbZ2GmqA2267jXXr1qW5IhFp99YuhTGXQcUgOP7mSEtREKSBgkBE2sQdxl0B1cvhjAegMNqZhnWMIA2Sp6E+/vjj2W677XjiiSfYsGEDX/va17j55ptZu3YtZ555JpWVlSQSCW688Ua+/PJLFi1axFe/+lV69erFK6+8EvVHEZFsmPpn+GQ8nPgb6L1P1NXkYBBMuA6++DC9r9l7Xxh+S4urk6ehnjhxIk8++STvvvsu7s6pp57Ka6+9xpIlS9hhhx147rnngGAOoq5du3Lrrbfyyiuv0KtXr/TWLCLt05JP4fkbYJdj4JBLoq4GUNdQ2k2cOJGJEyey//77c8ABB/Dxxx/z2Wefse+++zJp0iSuvfZaXn/9dbp27Rp1qSKSbXU18NT3gq6g0+6BvPbxFZx7LYLN/OWeDe7O9ddfz8UXX7zJuqlTpzJ+/Hiuv/56TjjhBG666aYIKhSRyLzyS/jiAzj7MSjvHXU1DdpHHHVwydNQn3jiiTz00EOsWbMGgIULF7J48WIWLVpEaWkp5513HldffTXTpk3b5LkiksP+8xr86w448Duw58ioq2ki91oEEUiehnr48OF885vf5LDDDgOgc+fOPPLII8yePZtrrrmGvLw8CgsLueeeewC46KKLGD58OH369NHBYpFctW4ZPH0x9NwVTvxV1NVsImPTUJtZf+BhoDdQD9zn7rc328aA24ERwDrgAneftrnX1TTU8fu8Ih2aO/zz2/DxeLhwEuwwJJIyNjcNdSZbBHXAj9x9mpmVA1PN7EV3n5m0zXBgt/B2CHBP+FNEJDdMfwxmjoXjbo4sBLYkY8cI3P3zjX/du/tqYBbQt9lmo4CHPfA20M3M+mSqJhGRrKqaAxN+DAOOgsOvjLqaFmXlYLGZDQD2B95ptqovsCDpcSWbhgVmdpGZTTGzKUuWLEn5Hh3tSmtbKy6fU6TDS9TC0xdBXgF87d52M1Q0lYxXZmadgaeAH7j7quarUzxlk286d7/P3Ye6+9CKik1n5yspKaGqqirnvyTdnaqqKkpKSqIuRUS25NX/gYVT4JTboGu/qKvZrIyOGjKzQoIQeNTdn06xSSXQP+lxP2BRW9+nX79+VFZW0lJrIZeUlJTQr1/7/k8lEnvz34LXfwdDzoW9vxZ1NVuUsSAIRwQ9CMxy91tb2GwccLmZ/Z3gIPFKd/+8re9VWFjIwIEDt75YEZF0Wb8y6BLqtiMM/23U1bRKJlsERwDnAx+a2fRw2Q3AjgDufi8wnmDo6GyC4aPfyWA9IiKZ99zVsGohfPcFKC6PuppWyVgQuPsbpD4GkLyNA9/PVA0iIln1wRPw4RPw1Z9A/4OirqbV2u9hbBGRjmT5fHjuR9D/UDjyh1FX0yYKAhGRbZWoC44LAJx+H+R3rNl7Ola1IiLt0Rt/gAVvw+n3Q/edoq6mzdQiEBHZFpVTYfJvYN9vwOAzo65mqygIRES21oY1wYVmuvSFEb+Lupqtpq4hEZGt9fy1sGI+XPAcdOoWdTVbTS0CEZGtMWMMvP8IHPUj2OnwqKvZJgoCEZG2WrkQnrkK+h4IX7k26mq2mYJARKQt6uth9MXB7KKn3w/5hVFXtM10jEBEpC3euhPmvQ6j/gg9d4m6mrRQi0BEpLUWTYeXfgGDTg1mFs0RCgIRkdaoWQdPXQhlFXDK7WCbnUqtQ1HXkIhIa0z8CVTNhm+NhdIeUVeTVmoRiIhsycfjYcpDcPgVsPNXoq4m7RQEIiKbs/oLGHc59B4Mx/w06moyQkEgItKS+noYc1lwfOCMB6CgOOqKMkLHCEREWvLufTDnJRh5K1TsEXU1GaMWgYhIKl/OgBdvgt2Hw9DvRl1NRikIRESaq10fDBUt6Qqj7sqpoaKpqGtIRKS5ST+HxTPh3KegrFfU1WScWgQiIsk+mwTv3AOHXAq7HRd1NVmhIBAR2WjtUhhzKWy3Fxz386iryRp1DYmIALjD2Mth/Ur41hgoLIm6oqxREIiIQHDm8KcT4KTfwvZ7R11NVqlrSERkySfwwk9gl2PhkIujribrFAQiEm91G4IL0BeVwml35/xQ0VTUNSQi8fbyL+GLD+Hsx6G8d9TVREItAhGJr7mT4c07gjOH9xwRdTWRURCISDytWwajL4Weu8EJv4q6mkipa0hE4scdnrkK1i6Bcx4Pjg/EmFoEIhI/0x+FWePg2BthhyFRVxM5BYGIxEvVHBj/Yxh4NBx2RdTVtAsKAhGJj0QtPP1fkF8Ip90LefoKBB0jEJE4efW3sHAqnPkwdO0bdTXtRsbi0MweMrPFZvZRC+uHmdlKM5se3m7KVC0iIsx/E17/Pex/Huw1Kupq2pVMtgj+AtwFPLyZbV5395MzWIOICFSvgKcvgu4DgrmEpImMtQjc/TVgWaZeX0Sk1cZfDasWwekPQHHnqKtpd6I+UnKYmf3bzCaYWbym+xOR7PjgCfjwn/DV66HfgVFX0y5FebB4GrCTu68xsxHAGGC3VBua2UXARQA77rhj9ioUkY5t+Tx47kew42Fw5A+jrqbdiqxF4O6r3H1NeH88UGhmKS8O6u73uftQdx9aUVGR1TpFpINK1MHT4ZTSp98HefnR1tOORRYEZtbbLJjv1cwODmupiqoeEckxb9wKC96GkbdCN/UkbE7GuobM7HFgGNDLzCqBnwGFAO5+L/B14FIzqwOqgbPd3TNVj4jEyIL3YPItsO+ZMPgbUVfT7mUsCNz9nC2sv4tgeKmISPpsWB2cPdylL4z8XdTVdAg6s1hEcsuE62DFfLhgPJR0jbqaDiHq4aMiIukzYzRMfwSOuhp2OizqajoMBYGktrYK3rkPFrwL9fVRVyOyZSsrg2sM9B0KX/lx1NV0KOoakk3Negae/X/BRTsg6GsddGowP0v/QzRjo7Q/9QkYfUnw84z7g9lFpdUUBNJo3TKYcC18+AT0HgxnPwbL/gMzx8KUh+Cde6Bzbxh0ShAKOx2usdnSPrx5J8x7HUbdDT12jrqaDkdBIIFPJgTN6nVVMOwGOOqHwV9V/Q+G/c4KRmJ8+kIQCu8/Au/dD2UVSaFwJOTrv5NEYNH78PIvYa/TYMg3o66mQ7KONnR/6NChPmXKlKjLyB3Vy+H56+Hfj8P2+8Bp90CfwZt/zoY1MPvFIBQ+fQFq10GnHjDo5CAUBn5FTXPJjpq18KevBP8HL3kDSntEXVG7ZWZT3X1oqnX6Ey7OPp0Iz1wJaxbD0T+Go6+BgqItP6+4M+z9teBWsw7mvBSEwkejYdrDUNIN9hwZhMLOw6CgONOfROLqhZ9A1Wz49jiFwDZQEMTR+pXwwg1BF0/FIDjncdhh/617raLSoHto0ClQux7mvgIzxsCsZ4MLhBd3hT2GB6GwyzFQWJLezyLx9fFzMPXPcMQPgusPy1ZTEMTN7Jdg3BWw+vNgNsZh16XvL/bCkuBLf4/hULcB5r4atBQ+fhY++DsUdYbdT4K9T4Ndj4PCTul5X4mf1V/A2Muhz37w1Z9EXU2HpyCIiw2rYeJPYepfoNce8L1JmZ2bvaAYdj8huCVug/+8BjPDlsJHT0JhWbBur1Gw2wlQVJa5WiS31NfDmEuhtjq40ExrujNlsxQEcTB3Moy9AlZVwhFXBaOCstlFk18Iux4b3Eb+Aea/EbQUZj0TnAla0Al2Oy4Y9bH7iVBcnr3apON5516Y8zKc/Aeo2D3qanKCRg3lsg1rYNLP4L0HoOeuwYig/gdHXVWj+gT831tBKMwcB2u+gPzioNtor1Gwx0maK0aa+uIjuP+rwf+Rsx+DYCZ7aYXNjRpSEOSqeW/AmMtgxf/BYd+HY37avvvk6+thwTthKIyF1YsgrzA4wLzXKNhzBHTqHnWVEqXaarj/mOBcl0vfhLKU17GSFmj4aJzUrIVJN8O7f4LuA+E7EzrG5Ft5eUGdOx0GJ/4aFk4NjinMHAefvQDPFARDUfcaBXuMhLKeUVcs2Tbp57B4Jpz3lEIgzdQiyCXz3woOoi3/DxxyCRx7U8c/COsOi6Y1thSWzwPLh4FHhS2FU6CzLl+a8z57ER79Ohx6GZz0m6ir6ZDUNZTraqvhpV/A23cHl+Qb9cfgizLXuMMXHwSBMGMMLJsDlgc7HRGEwqBToLx31FVKuq1ZAvccHkxp8l8v61yUraQgyGUL3g1aAVWz4aAL4bibgzN/c507fDkjbCmMgaWfAgY7HtYYCl37Rl2lbCt3ePxsmPMKXDQZtt8r6oo6rG0OAjO7CvgzsBp4ANgfuM7dJ6az0NZQEIRq18Mrv4K37gqmiR51V9CHHleLP27sPlo8I1jW7+AgFPYaBd36R1ufbJ33HoDnfgTD/wcOuTjqajq0dATBv919PzM7Efg+cCPwZ3c/IL2lbpmCAKicGrQCln4CB14Ax/8CSrpEXVX7sfSzxpbCFx8Gy/oeGLYUToUeA6OtT1pnySfwp6NhwJFw7pMaKrqN0hEEH7j7YDO7HZjs7qPN7H1338oJarZerIOgbgNMvgX+dRuU94FT7wxO0pKWVc2BWeOCYFj0frCsz35hS+E06LlLtPVJanUb4IFjYdXnwVDR8u2jrqjDS0cQ/BnoCwwE9gPyCQIhg3MUpBbbIFj0Poy+FJbMgv3PC4ZY6mSrtlk+LxiOOnMsLAz/D22/b2P3kc5SbT8m/jS42Mw5/whOLJRtlo4gyAOGAHPdfYWZ9QD6ufsH6S11y2IXBHU18Nr/wuu/h87bwSl3BHP0yLZZsSCY4mLmWFjwdrCsYlBjKGw3SF0RUZnzCvzttGDww8jfR11NzkhHEBwBTHf3tWZ2HnAAcLu7z09vqVsWqyD4/IPgWMCXH8F+5wTjp3V2bfqtWhRMhjdzLMz/F+DQa/fGUNh+H4VCtqxbFgwVLe4SjBIqKo26opyRlmMEBF1Cg4G/AQ8Cp7v7V9JZaGvEIggStfD6rfDa/0BpTzjl9mBqZ8m81V/Cx2FLYd4b4PXBNXA3hkKfIQqFTHGHJ86HT54PzhfY0pXypE3SMcVEnbu7mY0iaAk8aGbfTl+J0uDLGTD6kuDEqX3PhOG/1ZWXsql8+6BL4qALYe3S4FoKM8bAv+6AN/4A3XZqPNDc9wCFQjq9/0jQXXf8LxQCWdbaFsGrwPPAd4GjgCUEXUX7Zra8TeVsiyBRF4wGmnwLdOoWTLE76JSoq5KN1i0Lrog1c2wwrXd9LXTtHwxH3WsU9DsomC9Jtk7VHLj3qOAaGeeP1b7MgHR0DfUGvgm85+6vm9mOwDB3fzi9pW5ZTgbB4o9hzCXByKC9T4cRv9Okau1Z9fKg+2Lm2OB6zYmaYDjvnidD952CK7EVlwf93MUb75dDUfhTF1JpKlELD54Ay+bCZW9Blx2irignbXPXkLt/YWaPAgeZ2cnAu1GEQM5J1MFbd8Irvw6+IL7xl+CC8NK+deoOQ84JbutXwadhKLz/N6hbv+Xn5xenDoji8qTlXZICZePyLuH2Scvz8jP/eTNt8i3BxIJnPqwQiEirgsDMzgT+F5gMGHCnmV3j7k9msLbctuTTYETQwilBF9DIP2gWzY6opAsMPjO41ddDzZrgtmH1preaNbBhVfh4TdPla76Aqs8al9dVt+79C0uTAqWllkhSiLQUQEVl0RzvmPevYGj0/ucHXWwSidYeLP4JcJC7LwYwswpgEqAgaKv6RDBL6Eu/CIbGnfEg7HOGDjrmgry8IBjSMd1Hog5qkoNkY3Cs2kLQrIYV85sur69txRtaikDZTEsk+dY8gApKWvf/uXoFjL44mPLjpFu2eZfJ1mttEORtDIFQFaCjOW1VNSdoBSx4B/YYASffplPnJbX8gqALKh3njdRtaAyR5i2RlC2UpBBZ/UXT5V6/5ffLK9hMl1fS8sp3YfXn8L2J8Zgxtx1rbRA8b2YvAI+Hj88CxmempBxUXx9cMWzSzcGBwq/dF3QlqBUg2VBQHNy29ape7lC7Lik4VjVtibTUQtmwKhh1tXx+4/KaNYDBCb8IJgSUSLX2YPE1ZnYGcATBMYL73H10RivLFcvmwtjLgzNWdzsxODmsS5+oqxJpO7PgWEJRGZRv42vVJ4KWis4cbhdafc1id38KeCqDteSW+nqY8iC8eFPQVB51Nwz5ploBIhCMdlIItBubDQIzWw2kOtHAAHf3Fo+KmdlDwMnAYnffJ8V6A24HRgDrgAvcfVobam+/ls+Hsd+Hea/DLscG00Xralki0k5tNgjcfVsagH8B7gJaOt9gOLBbeDsEuCf82XG5w9Q/w8QbAQtmCj3gW2oFiEi71uquobZy99fMbMBmNhkFPOzBqc1vm1k3M+vj7p9nqqaMWrEAxl0eTD8w8CvBpSO77Rh1VSIiW5SxIGiFvsCCpMeV4bJNgsDMLgIuAthxx3b25eoenFH6/A3B0LqRt8LQ76oVICIdRpRBkOqbMuXER+5+H3AfBHMNZbKoNlm5EJ65EmZPggFHBa2A7gOirkpEpE2iDIJKoH/S437AoohqaRt3mP4YPH99cNbmiN/B0O9pxkQR6ZCiDIJxwOVm9neCg8QrO8TxgVWfwzNXwWcvwI6Hw2l/DC5cIiLSQWUsCMzscWAY0MvMKoGfAYUA7n4vwZnJI4DZBMNHv5OpWtLCHT54AiZcE1xH+KRb4OCL1QoQkQ4vk6OGztnCege+n6n3T6vVX8Kz/w8+eQ76HxKcHNZr16irEhFJiyi7hto/d/joKRh/NdSsgxN+CYdelhtzwIuIhBQELVmzBJ77IcwaF0yKddq9ULF71FWJiKSdgiCVGWOCENiwGo77ORx2RTAtsIhIDtK3W7K1VUE30IynYYf94bR7YLtBUVclIpJRCoKNZj0THBCuXgHH3AhH/ECtABGJBX3TrVsGE66FD5+A3oPh/DHQe5PJUkVEcla8g+CTCcHJYeuqYNgNcNQPIb8w6qpERLIqnkFQvSKYHuLfj8F2e8O5/4Q++0VdlYhIJOIXBJ+9COOugDWL4ehr4OgfB9cRFhGJqfgEwfqV8MJPgimjK/aEsx+DvgdEXZWISOTiEwSfTIDpj8KRP4Rh10FBcdQViYi0C/EJgsFnQZ8hsN2eUVciItKuxGfqTDOFgIhICvEJAhERSUlBICIScwoCEZGYUxCIiMScgkBEJOYUBCIiMacgEBGJOQWBiEjMKQhERGJOQSAiEnMKAhGRmFMQiIjEnIJARCTmFAQiIjGnIBARiTkFgYhIzCkIRERiTkEgIhJzCgIRkZhTEIiIxJyCQEQk5hQEIiIxl9EgMLOTzOwTM5ttZtelWH+BmS0xs+nh7cJM1iMiIpsqyNQLm1k+8EfgeKASeM/Mxrn7zGab/sPdL89UHSIisnmZbBEcDMx297nuXgP8HRiVwfcTEZGtkMkg6AssSHpcGS5r7gwz+8DMnjSz/qleyMwuMrMpZjZlyZIlmahVRCS2MhkElmKZN3v8DDDA3QcDk4C/pnohd7/P3Ye6+9CKioo0lykiEm+ZDIJKIPkv/H7AouQN3L3K3TeED+8HDsxgPSIikkImg+A9YDczG2hmRcDZwLjkDcysT9LDU4FZGaxHRERSyNioIXevM7PLgReAfOAhd59hZv8NTHH3ccCVZnYqUAcsAy7IVD0iIpKauTfvtm/fhg4d6lOmTIm6DBGRDsXMprr70FTrdGaxiEjMKQhERGJOQSAiEnMKAhGRmFMQiIjEnIJARCTmFAQiIjGnIBARiTkFgYhIzCkIRERiTkEgIhJzCgIRkZhTEIiIxJyCQEQk5hQEIiIxF5sgqK5JsGxtTdRliIi0Oxm7Qll78+qni7nkkWl0Ky1k515l7FzRmZ0ryti5V2d2qShjp55lFBXEJhdFRBrEJgj27N2Fn44cxNyla5m7ZA2vfbqEJ6dWNqzPzzP6d+8UBERyUFSUUdG5GDOLsHoRkcyJTRAM6FXGhUft3GTZ6vW1/GfpWuYuCcJhTnj/zTlLWV9b37BdeXFBGApNQ2JgrzJKCvOz/VFERNIqNkGQSnlJIYP7dWNwv25NltfXO4tWVjcExNwwIN6ZW8Xo9xc2bGcGfbs1tiJ2qWgMid5dStSKEJEOIdZB0JK8PKNf91L6dS/l6N0rmqxbV1OX1IpYy9yla5izZA1T5y1jbU2iYbvSonwG9kpuRZSxS0VnBvYqo6xYu11E2g99I7VRaVEBe+/Qlb136Npkubvz5aoNSV1Ma5i7ZC3TFyzn2Q8W4d64bZ+uJQ0HqpO7nPp260RenloRIpJdCoI0MTN6dy2hd9cSDt+1V5N162sTzK9aF4REGBBzlq5lzPSFrF5f17BdcUFe2IpoDIldwq6m8pLCbH8kEYkJBUEWlBTms0fvcvboXd5kubuzdE1N0nGIICRmfb6aF2Z8SaK+sRlRUV7ccKB6l4rGsOjXvRMF+Rr2KiJbT0EQITOjoryYivJiDtm5Z5N1NXX1/N+yja2IxoPWz3/0OcvX1TZsV5hv7NSzrMlopl3CsOhWWpTtjyQiHZCCoJ0qKshj1+06s+t2nTdZt3xtTXiQem2TkU2vfLKY2so8KTEAAAqJSURBVERjK6JHWVHDgerkoa879SylUK0IEQkpCDqg7mVFHFjWgwN36tFkeV2ingXLqxu6mDaGxcsfL+GJKU1PntuxR2mT0UwbWxM9y4o07FUkZhQEOaQgPzjYPLBXGccOarpuZfXGk+caQ2LukrW8PnspNXWNJ891KSloPGGuZxnlJQWUFhVQUpRPaWE+pUX5dApvpYUFwc+ifEoK88nXiCeRDklBEBNdOxUypH83hvRvevJcot5ZtKK6YTTTxoB4c3YVT09b2MKrpVZckBcERWEYFEVBUHRKCpDG9QWUJoVI0/sFzV4nn5KCfA2tFckQBUHM5ecZ/XuU0r9HKcP2aLpufW2CdTUJ1tXUJd1PUF2ToLp24/26pPvhz9qN9+tYV5NgxboaFq1ouq66NpG6oM3YGAydNgmOIDySA6VpAG0aLMlhVVqUT3FBnrrEJLYUBNKiksLgi7ZHWfpHH9XXO+vrUgVLgurauobQaRpAqUNn6Zoa1tWsa/I6G5K6u1rDjCYtl4ZWS7gsuWusJOwW2zRw8ikqyKO4IAiWooI8ivLzwmXh43CZQkfaEwWBRCIvz8K/xjPzXzBR7w0hUl2TYF1tXRAUYYCsq02wfmOrZWMrJVy+sTVTXVtPdU0dX6yqTWrlBD9rEm0LmuZaCoimy/Ipyg8ep94uv3FZQR7Fm33N/Kbr8vMoLgx+6jwUURBITsrPM8qKCzI2r1Ndor5pODS0RBLU1NUHt0Twc8PGx+GyjY+3tO3K6toWt6upq6cu6YTDbZFnJIVDY/gUpQiNJgEVLksVLkXJIRUuL87PaxpcBfkU5BkF+UZBXh4FeUZ+vlGYl0d+nlGQZzoulCUKApGtUJCfR3l+XqRTfyTqvSEUNiQSKUMnOUg2bCGgNm67SXDV1rO+tp5V1XUtb5uobzKfVrrkGUFI5FtDOBTk5zUJkMblSYGSZxTmp1iX6nWSlhfmGfnh49Svk/zeLW/bEGbhuoJm2218nY3PyTMi7S7MaBCY2UnA7UA+8IC739JsfTHwMHAgUAWc5e7zMlmTSK7Iz7OGobwQ7VxU7k5dvTcNkbp6ahIJ1tc2bck0towS1CWC59XVO4lEfcP9uvB+ot6pTTiJ+vrwZ+P6hvv19U1fJ9y2ujbR7HXqk16v8bmJROP95BMys62wIaTymgRIcqCcc/COm1xXJR0yFgRmlg/8ETgeqATeM7Nx7j4zabPvAcvdfVczOxv4LXBWpmoSkcwwMwrzg79uKY66mm2T2BgQyaGRIlCCQAqDKLyfqHdqG8Jl0zBrfE7T16xrEoJhmNV7k5Cqq3d6dc7Mzs1ki+BgYLa7zwUws78Do4DkIBgF/Dy8/yRwl5mZeyYamSIiW5afZ+TnxevKg5kcLtAXWJD0uDJclnIbd68DVgI9ERGRrMlkEKQ68tH8L/3WbIOZXWRmU8xsypIlS9JSnIiIBDIZBJVA/6TH/YBFLW1jZgVAV2BZ8xdy9/vcfai7D62oqGi+WkREtkEmg+A9YDczG2hmRcDZwLhm24wDvh3e/zrwso4PiIhkV8YOFrt7nZldDrxAMHz0IXefYWb/DUxx93HAg8DfzGw2QUvg7EzVIyIiqWX0PAJ3Hw+Mb7bspqT764FvZLIGERHZPE0yIiIScwoCEZGYs452bNbMlgDzt/LpvYClaSwnXdprXdB+a1NdbaO62iYX69rJ3VMOu+xwQbAtzGyKuw+Nuo7m2mtd0H5rU11to7raJm51qWtIRCTmFAQiIjEXtyC4L+oCWtBe64L2W5vqahvV1TaxqitWxwhERGRTcWsRiIhIMwoCEZGYy8kgMLOTzOwTM5ttZtelWF9sZv8I179jZgPaSV0XmNkSM5se3i7MUl0PmdliM/uohfVmZneEdX9gZge0k7qGmdnKpP11U6rt0lxTfzN7xcxmmdkMM7sqxTZZ31+trCvr+yt83xIze9fM/h3WdnOKbbL+O9nKuqL6ncw3s/fN7NkU69K/r9w9p24EE9zNAXYGioB/A3s12+Yy4N7w/tnAP9pJXRcAd0Wwz44GDgA+amH9CGACwfUjDgXeaSd1DQOezfK+6gMcEN4vBz5N8e+Y9f3Vyrqyvr/C9zWgc3i/EHgHOLTZNlH8Tramrqh+J38IPJbq3ysT+yoXWwQNl8h09xpg4yUyk40C/hrefxI41sxSXSQn23VFwt1fI8V1IJKMAh72wNtANzPr0w7qyjp3/9zdp4X3VwOz2PTKe1nfX62sKxLhflgTPiwMb81HqWT9d7KVdWWdmfUDRgIPtLBJ2vdVLgZBe71EZmvqAjgj7E540sz6p1gfhdbWHoXDwqb9BDPbO5tvHDbJ9yf4SzJZpPtrM3VBRPsr7OqYDiwGXnT3FvdZFn8nW1MXZP938jbgx0B9C+vTvq9yMQjSdonMNGvNez4DDHD3wcAkGlM/alHsr9aYRjB/yn7AncCYbL2xmXUGngJ+4O6rmq9O8ZSs7K8t1BXZ/nL3hLsPIbhS4cFmtk+zTSLZZ62oK6u/k2Z2MrDY3adubrMUy7ZpX+ViEKTtEpnZrsvdq9x9Q/jwfuDADNfUWq3Zp1nn7qs2Nu09uPZFoZn1yvT7mlkhwZfto+7+dIpNItlfW6orqv3VrIYVwGTgpGarovid3GJdEfxOHgGcambzCLqPjzGzR5ptk/Z9lYtB0F4vkbnFupr1I59K0M/bHowDvhWOhjkUWOnun0ddlJn13tg3amYHE/x/rsrwexrBlfVmufutLWyW9f3Vmrqi2F/he1WYWbfwfifgOODjZptl/XeyNXVl+3fS3a93937uPoDgO+Jldz+v2WZp31cZvUJZFLydXiKzlXVdaWanAnVhXRdkui4AM3ucYERJLzOrBH5GcOAMd7+X4CpzI4DZwDrgO+2krq8Dl5pZHVANnJ2FQD8COB/4MOxbBrgB2DGprij2V2vqimJ/QTCi6a9mlk8QPk+4+7NR/062sq5Ifieby/S+0hQTIiIxl4tdQyIi0gYKAhGRmFMQiIjEnIJARCTmFAQiIjGnIBDJIgtmAN1kRkmRKCkIRERiTkEgkoKZnRfOVT/dzP4UTk62xsx+b2bTzOwlM6sItx1iZm+HE5ONNrPu4fJdzWxSOMnbNDPbJXz5zuEEZh+b2aNZmPlWZLMUBCLNmNkg4CzgiHBCsgRwLlAGTHP3A4BXCc50BngYuDacmOzDpOWPAn8MJ3k7HNg4zcT+wA+AvQiuT3FExj+UyGbk3BQTImlwLMHkYu+Ff6x3IpimuB74R7jNI8DTZtYV6Obur4bL/wr808zKgb7uPhrA3dcDhK/3rrtXho+nAwOANzL/sURSUxCIbMqAv7r79U0Wmt3YbLvNzc+yue6eDUn3E+j3UCKmriGRTb0EfN3MtgMwsx5mthPB78vXw22+Cbzh7iuB5WZ2VLj8fODV8FoAlWZ2WvgaxWZWmtVPIdJK+ktEpBl3n2lmPwUmmlkeUAt8H1gL7G1mUwmuCnVW+JRvA/eGX/RzaZxt9HzgT+HMkbXAN7L4MURaTbOPirSSma1x985R1yGSbuoaEhGJObUIRERiTi0CEZGYUxCIiMScgkBEJOYUBCIiMacgEBGJuf8P+9aM/h6I/D4AAAAASUVORK5CYII=\n",
      "text/plain": [
       "<Figure size 432x288 with 1 Axes>"
      ]
     },
     "metadata": {
      "needs_background": "light"
     },
     "output_type": "display_data"
    }
   ],
   "source": [
    "import matplotlib.pyplot as plt\n",
    "\n",
    "plt.plot(history.history['accuracy'])\n",
    "plt.plot(history.history['val_accuracy'])\n",
    "plt.title('model accuracy')\n",
    "plt.ylabel('accuracy')\n",
    "plt.xlabel('epoch')\n",
    "plt.legend(['train', 'test'], loc='upper left')\n",
    "plt.show()\n",
    "\n",
    "plt.plot(history.history['loss'])\n",
    "plt.plot(history.history['val_loss'])\n",
    "plt.title('model loss')\n",
    "plt.ylabel('loss')\n",
    "plt.xlabel('epoch')\n",
    "plt.legend(['train', 'test'], loc='upper left')\n",
    "plt.show()"
   ]
  },
  {
   "cell_type": "code",
   "execution_count": 27,
   "metadata": {},
   "outputs": [],
   "source": [
    "from sklearn.metrics import confusion_matrix\n",
    "\n",
    "pred = model.predict(X_test)\n",
    "pred = np.argmax(pred,axis=1)\n",
    "y_true = np.argmax(y_test,axis=1)"
   ]
  },
  {
   "cell_type": "markdown",
   "metadata": {},
   "source": [
    "Using mlxtend library for quick implementation of confusion matrix."
   ]
  },
  {
   "cell_type": "code",
   "execution_count": 28,
   "metadata": {},
   "outputs": [
    {
     "data": {
      "image/png": "iVBORw0KGgoAAAANSUhEUgAAATkAAAE9CAYAAABwcBXnAAAABHNCSVQICAgIfAhkiAAAAAlwSFlzAAALEgAACxIB0t1+/AAAADh0RVh0U29mdHdhcmUAbWF0cGxvdGxpYiB2ZXJzaW9uMy4xLjAsIGh0dHA6Ly9tYXRwbG90bGliLm9yZy+17YcXAAASZklEQVR4nO3de7hVdZ2A8fd7zuEoeAG5qHGTiyihqY0oTtqYdyzzNjrhNUcnq9EcS/PSODlWU5rWOKXTpKWZjndn0vCSlxwFlEDLEFGTFBUwUUlB5CLwmz/OAg94gK3txdr8fD/Pc56z9tpr7/Xdz4Ova+3biZQSkpSrpqoHkKQyGTlJWTNykrJm5CRlzchJypqRk5S1lqoHaK9Hz56p/xYDqh5DDer5196qegQ1qHmvzWTh3Nejo+saKnL9txjAA+MmVD2GGtQJ1z1W9QhqUPedd/Qqr/N0VVLWjJykrBk5SVkzcpKyZuQkZc3IScqakZOUNSMnKWtGTlLWjJykrBk5SVkzcpKyZuQkZc3IScqakZOUNSMnKWtGTlLWjJykrBk5SVkzcpKyZuQkZc3IScqakZOUNSMnKWtGTlLWjJykrBk5SVkzcpKyZuQkZc3IScqakZOUNSMnKWtGTlLWjJykrBk5SVkzcpKyZuQkZc3IScqakZOUNSMnKWtGTlLWjJykrBk5SVkzcpKyZuQkZc3IScqakZOUNSMnKWtGTlLWjJykrBk5SVkzcpKyZuQkZc3IScqakZOUNSMnKWtGTlLWjJykrBk5SVkzcpKyZuQkZa2l6gEEJ33+BO6683Z69dqU8Y9OAuCcs8/grjtG09raysCBg7j0sivo1q1bxZNqbemxQSdO/vgAunXuREqJe//wKndMeYVjhvdhx35dWbw08fLchVw69nneWrSE7XpvxFE79qGlOVi8JHH1I9OZ/NKbVT+MhlDqkVxEjIyIpyNiakScVea+1mVHHvNZbrn1jhXW7bHX3ox/dBIPTXyMwUO24vsXnl/RdKrCkqWJn0+czpf/dwpfG/00+w3tRd+u6/P7mXP4yi+mcPqtTzJzzgIO2W4zAOYsWMz59/6R037xJJeMmcaXPj6g2gfQQEqLXEQ0A5cC+wPDgCMiYlhZ+1uX7brb37BJ9+4rrNtr731paWk70N5p5xHMnDG9itFUkdfnL+a51+YDsGDxUma8sYDuG3Ri0sy5LE1t2zwzax49urQCMG32fP48/20AXnx9AZ2am2hpikpmbzRlHsntDExNKT2bUloEXA8cVOL+snXNz69kn/1GVj2GKtJrw1YGdu/CM6/MW2H9HkN68rvpc961/S5bdOO52W+xeFkNP+DKjFwf4MV2l6cX6/QeXHjBt2lpbuHvRh1V9SiqwPotTZy+xyCunDCd+W8vXb7+0O02Z2lKjHl29grb9+22PkcN78NlD72wtkdtWGW+8NDRsfK7/tcSEScCJwL069e/xHHWPddecxW/uuN2brvzHiI89figaQ44bc9BjHl2NhOef335+t237M6O/TbmvLueWWH77l068dU9B3HJmGm8PHfR2h63YZV5JDcd6Nfucl9g5sobpZQuSykNTykN79GrV4njrFvuvfsuLv7ehVx/8y/o0qVL1eOoAl/cbQtmvL6A0U/MWr5uhz4bc/BHNuOCe59l0ZJ3jhm6tDZz9j6DufbRmTw9a15Hd/eBVeaR3ERgSEQMBGYAo4AjS9zfOuv4Y49k7JgHeO3VV/nw4P6c/S/n8v0LL2DRwoUcfMB+AAzfeQQX//BHFU+qtWXophuw+5Y9eH72fC48cCgA1/52JseP6EtLcxP/st+WAPzhlXlc/vCLjPxwLzbfaD0O235zDtt+cwC+efdU5ixYXNljaBSRUnlPTkbEJ4GLgWbgipTSv61u+4/uODw9MG5CafNo3XbCdY9VPYIa1H3nHc3saVM6fE6n1DcDp5TuAO5Y44aSVBI/1iUpa0ZOUtaMnKSsGTlJWTNykrJm5CRlzchJypqRk5Q1Iycpa0ZOUtaMnKSsGTlJWTNykrJm5CRlzchJypqRk5Q1Iycpa0ZOUtaMnKSsGTlJWTNykrJm5CRlzchJypqRk5Q1Iycpa0ZOUtaMnKSsGTlJWTNykrJm5CRlzchJypqRk5Q1Iycpa0ZOUtaMnKSsGTlJWTNykrJm5CRlzchJypqRk5Q1Iycpay2ruiIi5gJp2cXidyqWU0pp45Jnk6S/2Cojl1LaaG0OIkllqOl0NSJ2i4i/L5Z7RsTAcseSpPpYY+Qi4lzgTODsYlUrcE2ZQ0lSvdRyJHcIcCAwDyClNBPwVFbSOqGWyC1KKSWKFyEiYoNyR5Kk+qklcjdGxI+BbhHxOeBe4PJyx5Kk+ljlq6vLpJQuioh9gDnAVsDXU0r3lD6ZJNXBGiNXeBzoTNsp6+PljSNJ9VXLq6v/AEwADgUOA8ZHxPFlDyZJ9VDLkdxXgY+mlF4DiIgewEPAFWUOJkn1UMsLD9OBue0uzwVeLGccSaqv1X129SvF4gzgNxFxK23PyR1E2+mrJDW81Z2uLnvD7x+Ln2VuLW8cSaqv1X1A/7y1OYgklWGNLzxERC/gDGAbYP1l61NKe5Y4lyTVRS0vPPw38BQwEDgPmAZMLHEmSaqbWiLXI6X0U+DtlNIDKaXjgV1KnkuS6qKW98m9Xfx+KSI+BcwE+pY3kiTVTy2R+1ZEdAVOA34IbAx8udSpJKlOavmA/uhi8Q1gj3LHkaT6Wt2bgX/IO3/I5l1SSqeUMpEk1dHqjuQeWWtTFJqA1hb/SqI6NvoHflxaHVs469VVXre6NwNfVco0krQWedgkKWtGTlLWjJykrNXyzcBbRcR9ETG5uLxdRJxT/miS9Jer5Ujuctr+sPTbACmlScCoMoeSpHqpJXJdUkorf0nm4jKGkaR6qyVyr0bEYN7549KHAS+VOpUk1Uktn109CbgMGBoRM4DngKNLnUqS6qSWz64+C+wdERsATSmluWu6jSQ1ilq+GfjrK10GIKX0jZJmkqS6qeV0dV675fWBA4AnyxlHkuqrltPV77W/HBEXAbeVNpEk1dH7+cRDF2BQvQeRpDLU8pzc47zzvXLNQC/A5+MkrRNqeU7ugHbLi4GXU0q+GVjSOmG1kYuIJuD2lNK2a2keSaqr1T4nl1JaCvw+IvqvpXkkqa5qOV39EPBEREyg3dtJUkoHljaVJNVJLZE7r/QpJKkktUTukymlM9uviIgLgAfKGUmS6qeW98nt08G6/es9iCSVYXV/d/WLwD8CgyJiUrurNgLGlT2YJNXD6k5XrwXuBL4DnNVu/dyU0uxSp5KkOlnd3119A3gDOGLtjSNJ9eVf65KUNSMnKWtGTlLWjJykrBk5SVkzcpKyZuQkZc3IScqakZOUNSMnKWtGTlLWjJykrBk5SVkzcpKyZuQkZc3IScqakZOUNSMnKWtGTlLWjJykrBk5SVkzcpKyZuQkZc3IScqakZOUNSMnKWtGTlLWjJykrBk5SVkzcpKyZuQkZc3IScqakZOUNSMnKWtGTlLWjJykrBk5SVkzcg3o7l/dxXbbbM02Q7fkwu+eX/U4qsB6rS2Mufp0fnPDWTx68z9zzhc+CcDuO23FQ9eeySM3fY3Lv3EMzc3v/Cf8vTMOY/Kt5zLhhrPZYWjfqkZvOKVFLiKuiIhZETG5rH3kaMmSJZx6yknc+ss7+d2kKdx0/XU8OWVK1WNpLVu4aDEjT/wBIz5zPiNGfYd9PzaMXbYfyE++cQzHnnUlww//Ni+8NJujPz0CgP12G8bg/r3Y9qDzOPlb1/GDr42q+BE0jjKP5H4GjCzx/rM0ccIEBg/ekoGDBtHa2srhnxnF6F/eWvVYqsC8+YsA6NTSTEtLM0uWLGXhosVMfWEWAL8e/xQH77UDAAfsvh3Xjp4AwITHp9F1o85s3nPjagZvMKVFLqX0IDC7rPvP1cyZM+jbt9/yy3369GXGjBkVTqSqNDUF468/ixfuO59fj3+KiZOfp1OnZv5qWH8ADtl7B/putgkAvTftxvQ//Xn5bWe8/Dq9N+1WydyNpqXqAbSilNK71kVEBZOoakuXJnYZdT5dN+zMDd//HMMGf4hjz7qS7552KOu1tnDvw0+xeMkSADr6J9LRv6UPosojFxEnAicC9Ovfv+JpqtenT1+mT39x+eUZM6bTu3fvCidS1d54cz4PPvIM+35sGBdffR97n3AxAHvtMpQhW2wKtB259d18k+W36bNZN1565Y1K5m00lb+6mlK6LKU0PKU0vFfPXlWPU7nhO+3E1KnPMO2551i0aBE33XA9nzrgwKrH0lrWc5MN6bphZwDWX68Te47YmqenvUyvTTYEoLVTC6cdtw+X3zwWgNsfeJwjD9gZgJ0/MoA5b87nT6/OqWb4BlP5kZxW1NLSwr//xyV8+lP7sWTJEj573PEM22abqsfSWrZ5z43b3iLS1ERTU3DLPb/lzjGT+fapB7P/x7elqSm4/KYxPDDxDwDcNfYJ9tttG5647VzeWvA2n//Xayp+BI0jyjpvj4jrgE8APYGXgXNTSj9d3W123HF4GvebR0qZR+u+TXY6ueoR1KAWPn0jS9+a1eGT16UdyaWUjijrviWpVpU/JydJZTJykrJm5CRlzchJypqRk5Q1Iycpa0ZOUtaMnKSsGTlJWTNykrJm5CRlzchJypqRk5Q1Iycpa0ZOUtaMnKSsGTlJWTNykrJm5CRlzchJypqRk5Q1Iycpa0ZOUtaMnKSsGTlJWTNykrJm5CRlzchJypqRk5Q1Iycpa0ZOUtaMnKSsGTlJWTNykrJm5CRlzchJypqRk5Q1Iycpa0ZOUtaMnKSsGTlJWTNykrJm5CRlzchJypqRk5Q1Iycpa0ZOUtaMnKSsGTlJWTNykrJm5CRlzchJypqRk5Q1Iycpa0ZOUtaMnKSsGTlJWTNykrJm5CRlzchJypqRk5Q1Iycpa0ZOUtYipVT1DMtFxCvA81XP0UB6Aq9WPYQakv82VrRFSqlXR1c0VOS0ooh4JKU0vOo51Hj8t1E7T1clZc3IScqakWtsl1U9gBqW/zZq5HNykrLmkZykrBm5BhQRIyPi6YiYGhFnVT2PGkdEXBERsyJictWzrCuMXIOJiGbgUmB/YBhwREQMq3YqNZCfASOrHmJdYuQaz87A1JTSsymlRcD1wEEVz6QGkVJ6EJhd9RzrEiPXePoAL7a7PL1YJ+l9MHKNJzpY50vg0vtk5BrPdKBfu8t9gZkVzSKt84xc45kIDImIgRHRCowCbqt4JmmdZeQaTEppMXAy8CvgSeDGlNIT1U6lRhER1wEPA1tHxPSIOKHqmRqdn3iQlDWP5CRlzchJypqRk5Q1Iycpa0ZOUtaMnNaKiHiz+N07Im5ew7anRkSX93j/n4iI0bWuX2mb4yLikve4v2kR0fO93EbVMHJ634pvTHlPUkozU0qHrWGzU4H3FDlpVYyc3iUiBkTEUxFxVURMioiblx1ZFUcwX4+IscDhETE4Iu6KiEcjYkxEDC22GxgRD0fExIj45kr3PblYbo6IiyLi8WI/X4qIU4DewP0RcX+x3b7Fff02Im6KiA2L9SOLOccCh9bwuHaOiIci4nfF763bXd2veBxPR8S57W5zdERMiIjHIuLH7yfsqlhKyR9/VvgBBtD2pQC7FpevAE4vlqcBZ7Tb9j5gSLE8Avh1sXwbcGyxfBLwZrv7nlwsfxG4BWgpLndvt4+exXJP4EFgg+LymcDXgfVp+7aWIbR9qcGNwOgOHssnlq0HNm63r72BW4rl44CXgB5AZ2AyMBz4MPBLoFOx3X+2e0zLZ/SnsX9a3kcX9cHwYkppXLF8DXAKcFFx+QaA4ojqY8BNEcu/PGW94veuwN8Wy1cDF3Swj72B/0ptH2UjpdTR96TtQtuXh44r9tFK28eahgLPpZSeKWa5BjhxDY+pK3BVRAyhLeKd2l13T0rpteK+/gfYDVgM7AhMLPbdGZi1hn2owRg5rcrKn/drf3le8bsJeD2ltEON97GyqHGbe1JKR6ywMmKHGm67sm8C96eUDomIAcD/tbuuo8cbwFUppbPf437UQHxOTqvSPyL+ulg+Ahi78gYppTnAcxFxOEC02b64ehxt36ACcNQq9nE38IWIaClu371YPxfYqFgeD+waEVsW23SJiK2Ap4CBETG43Yxr0hWYUSwft9J1+0RE94joDBxczH8fcFhEbLpsvojYoob9qIEYOa3Kk8BnI2IS0B340Sq2Owo4ISJ+DzzBO1/V/k/ASRExkba4dOQnwAvApOL2RxbrLwPujIj7U0qv0Bak64pZxgNDU0oLaDs9vb144eH5Gh7Td4HvRMQ4YOUXEMbSdlr9GG3P1T2SUpoCnAPcXez7HuBDNexHDcRvIdG7FKdyo1NK21Y8ivQX80hOUtY8kpOUNY/kJGXNyEnKmpGTlDUjJylrRk5S1oycpKz9P23m/lNCtC1dAAAAAElFTkSuQmCC\n",
      "text/plain": [
       "<Figure size 360x360 with 1 Axes>"
      ]
     },
     "metadata": {
      "needs_background": "light"
     },
     "output_type": "display_data"
    }
   ],
   "source": [
    "CM = confusion_matrix(y_true,pred)\n",
    "from mlxtend.plotting import plot_confusion_matrix\n",
    "fig, ax = plot_confusion_matrix(conf_mat=CM, figsize=(5, 5))\n",
    "plt.show()"
   ]
  },
  {
   "cell_type": "markdown",
   "metadata": {},
   "source": [
    "# The classes are imbalanced therefore validation accuracy won't be a good metric to analyze the model performance , We will also have to take precision , recall and confusion matrix into account."
   ]
  },
  {
   "cell_type": "code",
   "execution_count": 289,
   "metadata": {},
   "outputs": [
    {
     "name": "stdout",
     "output_type": "stream",
     "text": [
      "________________________________________\n",
      "Derived Report\n",
      "________________________________________\n",
      "Precision     : 63.73%\n",
      "Recall        : 100.00%\n",
      "F1-Score      : 77.84%\n",
      "Accuracy      : 64.42%\n",
      "________________________________________\n",
      "\n",
      "\n",
      "\n"
     ]
    }
   ],
   "source": [
    "from sklearn.metrics import accuracy_score,precision_score, recall_score, f1_score, roc_auc_score, confusion_matrix, classification_report\n",
    "\n",
    "precision = precision_score(y_true, pred)\n",
    "recall = recall_score(y_true, pred)\n",
    "f1 = f1_score(y_true, pred)\n",
    "accuracy = accuracy_score(y_true, pred)\n",
    "\n",
    "print('_'*40)\n",
    "print(\"Derived Report\")\n",
    "print('_'*40)\n",
    "print(\"%s%.2f%s\"% (\"Precision     : \", precision*100, \"%\"))\n",
    "print(\"%s%.2f%s\"% (\"Recall        : \", recall*100,    \"%\"))\n",
    "print(\"%s%.2f%s\"% (\"F1-Score      : \", f1*100,        \"%\"))\n",
    "print(\"%s%.2f%s\"% (\"Accuracy      : \", accuracy*100,        \"%\"))\n",
    "print('_'*40)\n",
    "print(\"\\n\\n\")"
   ]
  },
  {
   "cell_type": "markdown",
   "metadata": {},
   "source": [
    "# Here , recall is most significant quantity even more than accuracy and precision.¶"
   ]
  },
  {
   "cell_type": "markdown",
   "metadata": {},
   "source": [
    "# Since we are having unequal number of people in both the classes , therefore we can't take accuracy as an alone metric to calculate model efficieny ."
   ]
  },
  {
   "cell_type": "markdown",
   "metadata": {},
   "source": [
    "# precision = True Positive / (True Positive + False Positive)"
   ]
  },
  {
   "cell_type": "markdown",
   "metadata": {},
   "source": [
    "# recall = True Positive / (True Positive + False Negative)"
   ]
  },
  {
   "cell_type": "code",
   "execution_count": 301,
   "metadata": {},
   "outputs": [
    {
     "data": {
      "image/png": "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\n",
      "text/plain": [
       "<Figure size 432x288 with 1 Axes>"
      ]
     },
     "metadata": {
      "needs_background": "light"
     },
     "output_type": "display_data"
    }
   ],
   "source": [
    "idxtest=np.random.randint(len(X_test))\n",
    "testImg=X_test[idxtest]\n",
    "plt.imshow(testImg,cmap='gray')\n",
    "# testImg=testImg.reshape(1,100,100,3)\n",
    "# pred = le.inverse_transform([rounded_predictions[idxtest]])\n",
    "# actual = le.inverse_transform([rounded_labels[idxtest]])\n",
    "prediction = pred[idxtest]\n",
    "actual = y_true[idxtest]\n",
    "if (prediction==0 & actual==0):\n",
    "    prediction='NORMAL'\n",
    "    actual='NORMAL'\n",
    "    print(\"Actual:\",actual,\" Predicted:\",prediction)\n",
    "elif (prediction==1 & actual==1):\n",
    "    prediction='PNEUMONIA'\n",
    "    actual='PNEUMONIA'\n",
    "    print(\"Actual:\",actual,\" Predicted:\",prediction)\n",
    "elif(actual==0 & prediction==1):\n",
    "    prediction='PNEUMONIA'\n",
    "    actual='NORMAL'\n",
    "    print(\"Actual:\",actual,\" Predicted:\",prediction)\n",
    "elif(actual==1 & prediction==0):\n",
    "    prediction='NORMAL'\n",
    "    actual='PNEUMONIA'\n",
    "    print(\"Actual:\",actual,\" Predicted:\",prediction)\n",
    "plt.show()"
   ]
  }
 ],
 "metadata": {
  "kernelspec": {
   "display_name": "Python 3",
   "language": "python",
   "name": "python3"
  },
  "language_info": {
   "codemirror_mode": {
    "name": "ipython",
    "version": 3
   },
   "file_extension": ".py",
   "mimetype": "text/x-python",
   "name": "python",
   "nbconvert_exporter": "python",
   "pygments_lexer": "ipython3",
   "version": "3.6.5"
  }
 },
 "nbformat": 4,
 "nbformat_minor": 2
}
